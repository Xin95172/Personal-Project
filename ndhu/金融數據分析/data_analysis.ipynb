{
 "cells": [
  {
   "cell_type": "markdown",
   "metadata": {},
   "source": [
    "# Basis"
   ]
  },
  {
   "cell_type": "markdown",
   "metadata": {},
   "source": [
    "## B-S 評價"
   ]
  },
  {
   "cell_type": "code",
   "execution_count": null,
   "metadata": {},
   "outputs": [],
   "source": [
    "from scipy.stats import norm\n",
    "from math import sqrt, exp, log\n",
    "\n",
    "def BS(X):\n",
    "    d1 = (log(S / K) + (R + Sigma * Sigma/2) * T) / (Sigma * sqrt(T))\n",
    "    d2 = d1 - Sigma * sqrt(T)\n",
    "\n",
    "    if X == 'C':\n",
    "        return S * norm.cdf(d1) - K * exp(-R * T) * norm.cdf(d2)\n",
    "    if X == 'P':\n",
    "        return K * exp(-R * T) * norm.cdf(-d2) - S * norm.cdf(-d1)\n",
    "    \n",
    "def main():\n",
    "    global S, T, R, K, Sigma\n",
    "\n",
    "    S = 100\n",
    "    K = 100\n",
    "    Sigma = 0.3\n",
    "    R = 0.01\n",
    "    T = 1\n",
    "\n",
    "    print('The price of Call = %.15f' %BS('C'))\n",
    "    print('The price of Put  = %.15f' %BS('P'))\n",
    "\n",
    "main()"
   ]
  },
  {
   "cell_type": "markdown",
   "metadata": {},
   "source": [
    "## 二分法解函數"
   ]
  },
  {
   "cell_type": "code",
   "execution_count": null,
   "metadata": {},
   "outputs": [],
   "source": [
    "def f(x):\n",
    "    return pow(x, 2) - 2\n",
    "\n",
    "def solve():\n",
    "    a = 1\n",
    "    b = 2\n",
    "\n",
    "    while True:\n",
    "        c = (b + a)/ 2\n",
    "        \n",
    "        if b - c < pow(10, -6):\n",
    "            break\n",
    "\n",
    "        if f(b) * f(c) < 0:\n",
    "            a = c\n",
    "        else:\n",
    "            b = c\n",
    "    return c\n",
    "\n",
    "def main():\n",
    "    print('函數求解 %.6f' %solve())\n",
    "\n",
    "main()"
   ]
  },
  {
   "cell_type": "markdown",
   "metadata": {},
   "source": [
    "#   二分法解BS model 隱含波動率"
   ]
  },
  {
   "cell_type": "code",
   "execution_count": 4,
   "metadata": {},
   "outputs": [
    {
     "name": "stdout",
     "output_type": "stream",
     "text": [
      "IV of Call = 0.300000000000000\n",
      "IV of Put  = 0.300000000000000\n"
     ]
    }
   ],
   "source": [
    "from scipy.stats import norm\n",
    "from math import sqrt, exp, log\n",
    "\n",
    "def BS(X, Sigma):\n",
    "    d1 = (log(S / K) + (R + Sigma * Sigma/2) * T) / (Sigma * sqrt(T))\n",
    "    d2 = d1 - Sigma * sqrt(T)\n",
    "\n",
    "    if X == 'C':\n",
    "        return S * norm.cdf(d1) - K * exp(-R * T) * norm.cdf(d2) - Price_C\n",
    "    if X == 'P':\n",
    "        return K * exp(-R * T) * norm.cdf(-d2) - S * norm.cdf(-d1) - Price_P\n",
    "    \n",
    "def solve(X):\n",
    "    a = 0.00001\n",
    "    b = 1.00001\n",
    "\n",
    "    while True:\n",
    "        c = (b + a)/ 2\n",
    "        \n",
    "        if b - c < pow(10, -15):\n",
    "            break\n",
    "\n",
    "        if BS(X, b) * BS(X, c) < 0:\n",
    "            a = c\n",
    "        else:\n",
    "            b = c\n",
    "    return c\n",
    "\n",
    "def main():\n",
    "    global S, T, R, K, Price_C, Price_P\n",
    "\n",
    "    S = 100\n",
    "    K = 100\n",
    "    # Sigma = 0.3\n",
    "    R = 0.01\n",
    "    T = 1\n",
    "\n",
    "    # Price_C = 12.368267463784079\n",
    "    # Price_P = 11.373250838700891\n",
    "\n",
    "    print('IV of Call = %.15f' %solve('C'))\n",
    "    print('IV of Put  = %.15f' % solve('P'))\n",
    "\n",
    "main()"
   ]
  },
  {
   "cell_type": "markdown",
   "metadata": {},
   "source": [
    "# Iris MLP 教學"
   ]
  },
  {
   "cell_type": "code",
   "execution_count": null,
   "metadata": {},
   "outputs": [],
   "source": [
    "#!/usr/bin/env python\n",
    "# -*- coding=utf-8 -*-\n",
    "__author__ = \"柯博文老師 Powen Ko, www.powenko.com\"\n",
    "\n",
    "from sklearn import datasets\n",
    "from sklearn.model_selection import train_test_split\n",
    "import tensorflow as tf\n",
    "import numpy as np\n",
    "import pandas as pd\n",
    "\n",
    "path = '/Users/xinc./Documents/GitHub/desktop-tutorial/ndhu/FIN 52750 金融數據分析 MLP 教學/iris.csv'\n",
    "D = pd.read_csv(path, encoding = 'cp1252', low_memory = False)\n",
    "columns = ['SL', 'SW', 'PL', 'PW']\n",
    "category=3\n",
    "dim=4\n",
    "x_train , x_test , y_train , y_test = train_test_split(D[columns], D['Target'], test_size = 0.2)\n",
    "y_train2=tf.keras.utils.to_categorical(y_train, num_classes=(category))\n",
    "y_test2=tf.keras.utils.to_categorical(y_test, num_classes=(category))\n",
    "\n",
    "# 建立模型\n",
    "model = tf.keras.models.Sequential()\n",
    "model.add(tf.keras.layers.Dense(units=10,\n",
    "    activation=tf.nn.relu,\n",
    "    input_dim=dim))\n",
    "model.add(tf.keras.layers.Dense(units=10,\n",
    "    activation=tf.nn.relu ))\n",
    "model.add(tf.keras.layers.Dense(units=category,\n",
    "    activation=tf.nn.softmax ))\n",
    "model.compile(optimizer='adam',\n",
    "    loss=tf.keras.losses.categorical_crossentropy,\n",
    "    metrics=['accuracy'])\n",
    "\n",
    "history = model.fit(x_train, y_train2,\n",
    "          epochs=250,\n",
    "          batch_size=16)\n",
    "\n",
    "#測試\n",
    "score = model.evaluate(x_test, y_test2, batch_size=16)\n",
    "print(\"score:\",score)"
   ]
  },
  {
   "cell_type": "code",
   "execution_count": null,
   "metadata": {},
   "outputs": [],
   "source": [
    "predict = model.predict(x_test)\n",
    "\n",
    "predict2 = np.argmax(predict, axis=1)\n",
    "test2 = np.argmax(y_test2, axis=1)\n",
    "\n",
    "correct_count = 0\n",
    "Iris = pd.DataFrame(columns=['預測', '答案'])\n",
    "Iris.index.name = '編號'\n",
    "\n",
    "for i in range(len(test2)):\n",
    "    print('%5d\\t%5d\\t%5d' % (i, predict2[i], test2[i]))\n",
    "    Iris.loc[i] = [predict2[i], test2[i]]\n",
    "    if predict2[i] == test2[i]:\n",
    "        correct_count += 1\n",
    "\n",
    "accuracy = correct_count / len(test2)\n",
    "print('準確率 = %.6f' % accuracy)\n",
    "Iris"
   ]
  },
  {
   "cell_type": "code",
   "execution_count": null,
   "metadata": {},
   "outputs": [],
   "source": [
    "import matplotlib.pyplot as plt\n",
    "print(history.history.keys())\n",
    "plt.plot(history.history['accuracy'])\n",
    "plt.title('iris classification')\n",
    "plt.ylabel('accuracy')\n",
    "plt.xlabel('epoch')\n",
    "plt.legend(['train accuracy'], loc = 'lower right')\n",
    "plt.show()\n",
    "\n",
    "plt.plot(history.history['loss'])\n",
    "plt.title('iris classification')\n",
    "plt.ylabel('loss')\n",
    "plt.xlabel('epoch')\n",
    "plt.legend(['train Loss'], loc = 'upper right')\n",
    "plt.show()"
   ]
  },
  {
   "cell_type": "code",
   "execution_count": null,
   "metadata": {},
   "outputs": [],
   "source": [
    "columns = ['IV_C0', 'Std_C0', 'IV_P0', 'Std_P0',\n",
    "           'IV_C1', 'Std_C1', 'IV_P1', 'Std_P1',\n",
    "           'IV_C2', 'Std_C2', 'IV_P2', 'Std_P2',\n",
    "           'IV_C3', 'Std_C3', 'IV_P3', 'Std_P3', 'Target']\n",
    "\n",
    "D = pd.read_excel(\"/Users/xinc./Documents/GitHub/desktop-tutorial/ndhu/FIN 52750 金融數據分析 MLP 教學/FIN_52750 ImplyVolatility practice.xlsx\", usecols=columns)\n",
    "\n",
    "for i in range(2):\n",
    "    x_train,x_test,y_train,y_test=train_test_split(D[columns[0:16]], D['Target'], test_size = 0.2)\n",
    "    print(f'第{i + 1}次訓練')\n",
    "\n",
    "    category = 2\n",
    "    dim = 16\n",
    "    y_train2 = tf.keras.utils.to_categorical(y_train, num_classes=(category))\n",
    "    y_test2 = tf.keras.utils.to_categorical(y_test, num_classes=(category))\n",
    "\n",
    "    model = tf.keras.models.Sequential()\n",
    "    model.add(tf.keras.layers.Dense(units=40, activation=tf.nn.relu, input_dim=dim))\n",
    "    model.add(tf.keras.layers.Dense(units=40, activation=tf.nn.relu))\n",
    "    model.add(tf.keras.layers.Dense(units=category, activation=tf.nn.softmax))\n",
    "    model.compile(optimizer='adam', loss=tf.keras.losses.categorical_crossentropy, metrics=['accuracy'])\n",
    "\n",
    "    history = model.fit(x_train, y_train2, epochs = 2500, batch_size = 100, verbose = 0)\n",
    "\n",
    "    score = model.evaluate(x_test, y_test2, batch_size=len(y_test))\n",
    "    print(\"第 %d 次訓練：準確度：%.16f\" %(i + 1, score[1]))"
   ]
  }
 ],
 "metadata": {
  "kernelspec": {
   "display_name": "Python 3",
   "language": "python",
   "name": "python3"
  },
  "language_info": {
   "codemirror_mode": {
    "name": "ipython",
    "version": 3
   },
   "file_extension": ".py",
   "mimetype": "text/x-python",
   "name": "python",
   "nbconvert_exporter": "python",
   "pygments_lexer": "ipython3",
   "version": "3.9.6"
  }
 },
 "nbformat": 4,
 "nbformat_minor": 2
}
