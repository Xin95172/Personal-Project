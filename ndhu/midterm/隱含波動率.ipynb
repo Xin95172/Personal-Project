{
 "cells": [
  {
   "cell_type": "code",
   "execution_count": 1,
   "metadata": {},
   "outputs": [],
   "source": [
    "import numpy as np\n",
    "import pandas as pd\n",
    "from math import sqrt, exp, log\n",
    "from scipy.stats import norm\n",
    "import os"
   ]
  },
  {
   "cell_type": "code",
   "execution_count": 62,
   "metadata": {},
   "outputs": [],
   "source": [
    "def main():\n",
    "    global S, T, R, K, Price\n",
    "    ave, std, Date = [], [], []\n",
    "    year = \"2021\"\n",
    "    file = \"加權指數.xlsx\"\n",
    "    path = \"/Users/xinc./Documents/GitHub/desktop-tutorial/ndhu/midterm/\"\n",
    "    DD = pd.read_excel(path + file, sheet_name = year)\n",
    "\n",
    "    DD_len = len(DD)\n",
    "    \n",
    "    for i in range(DD_len):\n",
    "        D = pd.read_csv(DD['Path'].iloc[0] + '/' + DD['File'].iloc[i], low_memory = False)\n",
    "        \n",
    "        S = DD['S0'].iloc[i]\n",
    "        T = DD['Maturity'].iloc[i]/365\n",
    "        R = 0.01465\n",
    "    \n",
    "        Contract = 'TXO'\n",
    "        Call_Put = 'C'\n",
    "        Volume = 30\n",
    "        m = 0\n",
    "        IV = []\n",
    "\n",
    "        D['Maturity_contract'] = D['Maturity_contract'].astype(str).str.strip()\n",
    "        DD['Contract'] = DD['Contract'].astype(str).str.replace('-', '', regex = False).str.strip()\n",
    "        \n",
    "        for j in range(len(D)):\n",
    "            if (\n",
    "                (D['ID'].iloc[j] == Contract) and\n",
    "                (D['Call_Put'].iloc[j] == Call_Put) and\n",
    "                (str(D['Maturity_contract'].iloc[j])[:6] == DD['Contract'].iloc[i]) and\n",
    "                (D['Num'].iloc[j] >= Volume)\n",
    "            ):\n",
    "                K = D[\"E\"].iloc[j]\n",
    "                Price = D[\"Pr\"].iloc[j]               \n",
    "                sol = solve(D['Call_Put'].iloc[j])\n",
    "                if sol < 0.03:\n",
    "                    continue\n",
    "                IV.append(sol)\n",
    "        \n",
    "                m += 1\n",
    "        \n",
    "        ave.append(np.average(IV))\n",
    "        std.append(np.std(IV, ddof = 1))\n",
    "        Date.append(DD['Date'].iloc[i])\n",
    "        print(\"%s \\t ave = %.4f%% \\t std.s = %f\" % (str(Date[i]), ave[i] * 100, std[i]))\n",
    "        print('**************************************************************')\n",
    "        \n",
    "    ave_series = pd.Series(ave).interpolate()\n",
    "    std_series = pd.Series(std).interpolate()\n",
    "\n",
    "    fp = open(\"Finalresult_\" + year + \"_\" + Call_Put + \".txt\", \"w\")\n",
    "    for i in range(DD_len):\n",
    "        print(\"%s \\t %f \\t %f\" % (str(Date[i]), ave_series[i], std_series[i]), file = fp)\n",
    "    fp.close()\n",
    "\n",
    "def BS(X, Sigma):\n",
    "    d1 = (log(S / K) + (R + Sigma * Sigma / 2) * T) / (Sigma * sqrt(T))\n",
    "    d2 = d1 - Sigma * sqrt(T)\n",
    "   \n",
    "    if X == \"C\":\n",
    "        return S * norm.cdf(d1) - K * exp(-R * T) * norm.cdf(d2) - Price\n",
    "    if X == \"P\":\n",
    "        return K * exp(-R * T) * norm.cdf(-d2) - S * norm.cdf(-d1) - Price\n",
    "\n",
    "def solve(X):\n",
    "    a = 0.00001\n",
    "    b = 1.00001\n",
    "    for i in range(4096):\n",
    "        c = (b + a) / 2\n",
    "        if b - c < pow(10, -6):\n",
    "            break\n",
    "        else:\n",
    "            if BS(X, b) * BS(X, c) < 0:\n",
    "                a = c\n",
    "            else:\n",
    "                b = c\n",
    "    return c"
   ]
  },
  {
   "cell_type": "code",
   "execution_count": 63,
   "metadata": {},
   "outputs": [
    {
     "name": "stdout",
     "output_type": "stream",
     "text": [
      "2021-01-04 00:00:00 \t ave = 7.8278% \t std.s = 0.043359\n",
      "**************************************************************\n",
      "2021-01-05 00:00:00 \t ave = 6.3891% \t std.s = 0.042968\n",
      "**************************************************************\n",
      "2021-01-06 00:00:00 \t ave = 8.3782% \t std.s = 0.051416\n",
      "**************************************************************\n",
      "2021-01-07 00:00:00 \t ave = 10.8930% \t std.s = 0.036717\n",
      "**************************************************************\n",
      "2021-01-08 00:00:00 \t ave = 9.8984% \t std.s = 0.033314\n",
      "**************************************************************\n",
      "2021-01-11 00:00:00 \t ave = 10.4000% \t std.s = 0.038635\n",
      "**************************************************************\n",
      "2021-01-12 00:00:00 \t ave = 10.9397% \t std.s = 0.040237\n",
      "**************************************************************\n",
      "2021-01-13 00:00:00 \t ave = 14.9876% \t std.s = 0.059480\n",
      "**************************************************************\n",
      "2021-01-14 00:00:00 \t ave = 21.2716% \t std.s = 0.021297\n",
      "**************************************************************\n",
      "2021-01-15 00:00:00 \t ave = 27.6354% \t std.s = 0.064260\n",
      "**************************************************************\n",
      "2021-01-18 00:00:00 \t ave = 22.7143% \t std.s = 0.067599\n",
      "**************************************************************\n",
      "2021-01-19 00:00:00 \t ave = 16.5332% \t std.s = 0.128455\n",
      "**************************************************************\n",
      "2021-01-20 00:00:00 \t ave = 5.7761% \t std.s = 0.021349\n",
      "**************************************************************\n",
      "2021-01-21 00:00:00 \t ave = 9.9800% \t std.s = 0.044447\n",
      "**************************************************************\n",
      "2021-01-22 00:00:00 \t ave = 12.5873% \t std.s = 0.033134\n",
      "**************************************************************\n",
      "2021-01-25 00:00:00 \t ave = 15.1573% \t std.s = 0.029472\n",
      "**************************************************************\n",
      "2021-01-26 00:00:00 \t ave = 21.9484% \t std.s = 0.021517\n",
      "**************************************************************\n",
      "2021-01-27 00:00:00 \t ave = 14.9534% \t std.s = 0.044167\n",
      "**************************************************************\n",
      "2021-01-28 00:00:00 \t ave = 12.9708% \t std.s = 0.037480\n",
      "**************************************************************\n",
      "2021-01-29 00:00:00 \t ave = 14.5027% \t std.s = 0.042783\n",
      "**************************************************************\n",
      "2021-02-01 00:00:00 \t ave = 6.8672% \t std.s = 0.034673\n",
      "**************************************************************\n",
      "2021-02-02 00:00:00 \t ave = 7.5880% \t std.s = 0.039383\n",
      "**************************************************************\n",
      "2021-02-03 00:00:00 \t ave = 7.3167% \t std.s = 0.044816\n",
      "**************************************************************\n",
      "2021-02-04 00:00:00 \t ave = 15.3161% \t std.s = 0.020615\n",
      "**************************************************************\n",
      "2021-02-05 00:00:00 \t ave = 14.2382% \t std.s = 0.021108\n",
      "**************************************************************\n",
      "2021-02-17 00:00:00 \t ave = 7.8334% \t std.s = 0.025528\n",
      "**************************************************************\n",
      "2021-02-18 00:00:00 \t ave = 18.5526% \t std.s = 0.015075\n",
      "**************************************************************\n",
      "2021-02-19 00:00:00 \t ave = 17.8518% \t std.s = 0.011085\n",
      "**************************************************************\n",
      "2021-02-22 00:00:00 \t ave = 20.3723% \t std.s = 0.010931\n",
      "**************************************************************\n",
      "2021-02-23 00:00:00 \t ave = 18.6238% \t std.s = 0.015713\n",
      "**************************************************************\n",
      "2021-02-24 00:00:00 \t ave = 13.9412% \t std.s = 0.049870\n",
      "**************************************************************\n",
      "2021-02-25 00:00:00 \t ave = 8.3929% \t std.s = 0.029679\n",
      "**************************************************************\n",
      "2021-02-26 00:00:00 \t ave = 13.6168% \t std.s = 0.040010\n",
      "**************************************************************\n",
      "2021-03-02 00:00:00 \t ave = 11.0789% \t std.s = 0.050879\n",
      "**************************************************************\n",
      "2021-03-03 00:00:00 \t ave = 11.7111% \t std.s = 0.051483\n",
      "**************************************************************\n",
      "2021-03-04 00:00:00 \t ave = 16.3026% \t std.s = 0.034527\n",
      "**************************************************************\n",
      "2021-03-05 00:00:00 \t ave = 13.3975% \t std.s = 0.034038\n",
      "**************************************************************\n",
      "2021-03-08 00:00:00 \t ave = 18.6777% \t std.s = 0.033610\n",
      "**************************************************************\n"
     ]
    },
    {
     "name": "stderr",
     "output_type": "stream",
     "text": [
      "/Users/xinc./Library/Python/3.9/lib/python/site-packages/numpy/core/_methods.py:206: RuntimeWarning: Degrees of freedom <= 0 for slice\n",
      "  ret = _var(a, axis=axis, dtype=dtype, out=out, ddof=ddof,\n",
      "/Users/xinc./Library/Python/3.9/lib/python/site-packages/numpy/core/_methods.py:198: RuntimeWarning: invalid value encountered in scalar divide\n",
      "  ret = ret.dtype.type(ret / rcount)\n"
     ]
    },
    {
     "name": "stdout",
     "output_type": "stream",
     "text": [
      "2021-03-09 00:00:00 \t ave = 17.6811% \t std.s = nan\n",
      "**************************************************************\n",
      "2021-03-10 00:00:00 \t ave = 9.7292% \t std.s = 0.064701\n",
      "**************************************************************\n",
      "2021-03-11 00:00:00 \t ave = 16.2111% \t std.s = 0.028274\n",
      "**************************************************************\n",
      "2021-03-12 00:00:00 \t ave = 15.8147% \t std.s = 0.017884\n",
      "**************************************************************\n",
      "2021-03-15 00:00:00 \t ave = 18.1060% \t std.s = 0.028213\n",
      "**************************************************************\n",
      "2021-03-16 00:00:00 \t ave = 17.1270% \t std.s = 0.054754\n",
      "**************************************************************\n",
      "2021-03-17 00:00:00 \t ave = 4.7298% \t std.s = 0.013724\n",
      "**************************************************************\n",
      "2021-03-18 00:00:00 \t ave = 14.2703% \t std.s = 0.010359\n",
      "**************************************************************\n",
      "2021-03-19 00:00:00 \t ave = 15.7040% \t std.s = 0.025542\n",
      "**************************************************************\n"
     ]
    },
    {
     "name": "stderr",
     "output_type": "stream",
     "text": [
      "/Users/xinc./Library/Python/3.9/lib/python/site-packages/numpy/lib/function_base.py:520: RuntimeWarning: Mean of empty slice.\n",
      "  avg = a.mean(axis, **keepdims_kw)\n",
      "/Users/xinc./Library/Python/3.9/lib/python/site-packages/numpy/core/_methods.py:129: RuntimeWarning: invalid value encountered in scalar divide\n",
      "  ret = ret.dtype.type(ret / rcount)\n",
      "/Users/xinc./Library/Python/3.9/lib/python/site-packages/numpy/core/_methods.py:206: RuntimeWarning: Degrees of freedom <= 0 for slice\n",
      "  ret = _var(a, axis=axis, dtype=dtype, out=out, ddof=ddof,\n",
      "/Users/xinc./Library/Python/3.9/lib/python/site-packages/numpy/core/_methods.py:163: RuntimeWarning: invalid value encountered in divide\n",
      "  arrmean = um.true_divide(arrmean, div, out=arrmean,\n",
      "/Users/xinc./Library/Python/3.9/lib/python/site-packages/numpy/core/_methods.py:198: RuntimeWarning: invalid value encountered in scalar divide\n",
      "  ret = ret.dtype.type(ret / rcount)\n"
     ]
    },
    {
     "name": "stdout",
     "output_type": "stream",
     "text": [
      "2021-03-22 00:00:00 \t ave = nan% \t std.s = nan\n",
      "**************************************************************\n"
     ]
    },
    {
     "name": "stderr",
     "output_type": "stream",
     "text": [
      "/Users/xinc./Library/Python/3.9/lib/python/site-packages/numpy/lib/function_base.py:520: RuntimeWarning: Mean of empty slice.\n",
      "  avg = a.mean(axis, **keepdims_kw)\n",
      "/Users/xinc./Library/Python/3.9/lib/python/site-packages/numpy/core/_methods.py:129: RuntimeWarning: invalid value encountered in scalar divide\n",
      "  ret = ret.dtype.type(ret / rcount)\n",
      "/Users/xinc./Library/Python/3.9/lib/python/site-packages/numpy/core/_methods.py:206: RuntimeWarning: Degrees of freedom <= 0 for slice\n",
      "  ret = _var(a, axis=axis, dtype=dtype, out=out, ddof=ddof,\n",
      "/Users/xinc./Library/Python/3.9/lib/python/site-packages/numpy/core/_methods.py:163: RuntimeWarning: invalid value encountered in divide\n",
      "  arrmean = um.true_divide(arrmean, div, out=arrmean,\n",
      "/Users/xinc./Library/Python/3.9/lib/python/site-packages/numpy/core/_methods.py:198: RuntimeWarning: invalid value encountered in scalar divide\n",
      "  ret = ret.dtype.type(ret / rcount)\n"
     ]
    },
    {
     "name": "stdout",
     "output_type": "stream",
     "text": [
      "2021-03-23 00:00:00 \t ave = nan% \t std.s = nan\n",
      "**************************************************************\n",
      "2021-03-24 00:00:00 \t ave = 14.5629% \t std.s = 0.005715\n",
      "**************************************************************\n",
      "2021-03-25 00:00:00 \t ave = 13.1103% \t std.s = 0.007267\n",
      "**************************************************************\n",
      "2021-03-26 00:00:00 \t ave = 12.3502% \t std.s = 0.020166\n",
      "**************************************************************\n",
      "2021-03-29 00:00:00 \t ave = 13.5998% \t std.s = 0.014016\n",
      "**************************************************************\n",
      "2021-03-30 00:00:00 \t ave = 13.1367% \t std.s = 0.010580\n",
      "**************************************************************\n",
      "2021-03-31 00:00:00 \t ave = 11.5420% \t std.s = 0.039386\n",
      "**************************************************************\n",
      "2021-04-01 00:00:00 \t ave = 7.1239% \t std.s = 0.029792\n",
      "**************************************************************\n",
      "2021-04-06 00:00:00 \t ave = 6.0473% \t std.s = 0.037888\n",
      "**************************************************************\n",
      "2021-04-07 00:00:00 \t ave = 9.4752% \t std.s = 0.022976\n",
      "**************************************************************\n",
      "2021-04-08 00:00:00 \t ave = 6.9589% \t std.s = 0.025596\n",
      "**************************************************************\n",
      "2021-04-09 00:00:00 \t ave = 9.4325% \t std.s = 0.023722\n",
      "**************************************************************\n",
      "2021-04-12 00:00:00 \t ave = 7.9508% \t std.s = 0.026383\n",
      "**************************************************************\n",
      "2021-04-13 00:00:00 \t ave = 9.2783% \t std.s = 0.040531\n",
      "**************************************************************\n",
      "2021-04-14 00:00:00 \t ave = 8.5298% \t std.s = 0.043506\n",
      "**************************************************************\n",
      "2021-04-15 00:00:00 \t ave = 10.2978% \t std.s = 0.029404\n",
      "**************************************************************\n",
      "2021-04-16 00:00:00 \t ave = 12.5610% \t std.s = 0.026952\n",
      "**************************************************************\n",
      "2021-04-19 00:00:00 \t ave = 14.6639% \t std.s = 0.026797\n",
      "**************************************************************\n",
      "2021-04-20 00:00:00 \t ave = 14.2137% \t std.s = 0.045814\n",
      "**************************************************************\n",
      "2021-04-21 00:00:00 \t ave = 5.2370% \t std.s = 0.017132\n",
      "**************************************************************\n",
      "2021-04-22 00:00:00 \t ave = 16.6461% \t std.s = 0.027332\n",
      "**************************************************************\n",
      "2021-04-23 00:00:00 \t ave = 14.1382% \t std.s = 0.034525\n",
      "**************************************************************\n",
      "2021-04-26 00:00:00 \t ave = 11.8470% \t std.s = 0.020256\n",
      "**************************************************************\n",
      "2021-04-27 00:00:00 \t ave = 14.8801% \t std.s = 0.021940\n",
      "**************************************************************\n",
      "2021-04-28 00:00:00 \t ave = 10.0298% \t std.s = 0.042531\n",
      "**************************************************************\n",
      "2021-04-29 00:00:00 \t ave = 8.9627% \t std.s = 0.031706\n",
      "**************************************************************\n",
      "2021-05-03 00:00:00 \t ave = 10.2423% \t std.s = 0.039662\n",
      "**************************************************************\n",
      "2021-05-04 00:00:00 \t ave = 9.6700% \t std.s = 0.037672\n",
      "**************************************************************\n",
      "2021-05-05 00:00:00 \t ave = 8.3629% \t std.s = 0.052970\n",
      "**************************************************************\n",
      "2021-05-06 00:00:00 \t ave = 11.4281% \t std.s = 0.037841\n",
      "**************************************************************\n",
      "2021-05-07 00:00:00 \t ave = 8.8000% \t std.s = 0.034526\n",
      "**************************************************************\n",
      "2021-05-10 00:00:00 \t ave = 11.0399% \t std.s = 0.033599\n",
      "**************************************************************\n",
      "2021-05-11 00:00:00 \t ave = 17.1253% \t std.s = 0.054414\n",
      "**************************************************************\n",
      "2021-05-12 00:00:00 \t ave = 20.8837% \t std.s = 0.101591\n",
      "**************************************************************\n",
      "2021-05-13 00:00:00 \t ave = 37.6270% \t std.s = 0.049753\n",
      "**************************************************************\n",
      "2021-05-14 00:00:00 \t ave = 27.8563% \t std.s = 0.045588\n",
      "**************************************************************\n",
      "2021-05-17 00:00:00 \t ave = 51.8432% \t std.s = 0.105234\n",
      "**************************************************************\n"
     ]
    },
    {
     "name": "stderr",
     "output_type": "stream",
     "text": [
      "/Users/xinc./Library/Python/3.9/lib/python/site-packages/numpy/lib/function_base.py:520: RuntimeWarning: Mean of empty slice.\n",
      "  avg = a.mean(axis, **keepdims_kw)\n",
      "/Users/xinc./Library/Python/3.9/lib/python/site-packages/numpy/core/_methods.py:129: RuntimeWarning: invalid value encountered in scalar divide\n",
      "  ret = ret.dtype.type(ret / rcount)\n",
      "/Users/xinc./Library/Python/3.9/lib/python/site-packages/numpy/core/_methods.py:206: RuntimeWarning: Degrees of freedom <= 0 for slice\n",
      "  ret = _var(a, axis=axis, dtype=dtype, out=out, ddof=ddof,\n",
      "/Users/xinc./Library/Python/3.9/lib/python/site-packages/numpy/core/_methods.py:163: RuntimeWarning: invalid value encountered in divide\n",
      "  arrmean = um.true_divide(arrmean, div, out=arrmean,\n",
      "/Users/xinc./Library/Python/3.9/lib/python/site-packages/numpy/core/_methods.py:198: RuntimeWarning: invalid value encountered in scalar divide\n",
      "  ret = ret.dtype.type(ret / rcount)\n"
     ]
    },
    {
     "name": "stdout",
     "output_type": "stream",
     "text": [
      "2021-05-18 00:00:00 \t ave = nan% \t std.s = nan\n",
      "**************************************************************\n"
     ]
    },
    {
     "name": "stderr",
     "output_type": "stream",
     "text": [
      "/Users/xinc./Library/Python/3.9/lib/python/site-packages/numpy/lib/function_base.py:520: RuntimeWarning: Mean of empty slice.\n",
      "  avg = a.mean(axis, **keepdims_kw)\n",
      "/Users/xinc./Library/Python/3.9/lib/python/site-packages/numpy/core/_methods.py:129: RuntimeWarning: invalid value encountered in scalar divide\n",
      "  ret = ret.dtype.type(ret / rcount)\n",
      "/Users/xinc./Library/Python/3.9/lib/python/site-packages/numpy/core/_methods.py:206: RuntimeWarning: Degrees of freedom <= 0 for slice\n",
      "  ret = _var(a, axis=axis, dtype=dtype, out=out, ddof=ddof,\n",
      "/Users/xinc./Library/Python/3.9/lib/python/site-packages/numpy/core/_methods.py:163: RuntimeWarning: invalid value encountered in divide\n",
      "  arrmean = um.true_divide(arrmean, div, out=arrmean,\n",
      "/Users/xinc./Library/Python/3.9/lib/python/site-packages/numpy/core/_methods.py:198: RuntimeWarning: invalid value encountered in scalar divide\n",
      "  ret = ret.dtype.type(ret / rcount)\n"
     ]
    },
    {
     "name": "stdout",
     "output_type": "stream",
     "text": [
      "2021-05-19 00:00:00 \t ave = nan% \t std.s = nan\n",
      "**************************************************************\n",
      "2021-05-20 00:00:00 \t ave = 26.0296% \t std.s = 0.038894\n",
      "**************************************************************\n"
     ]
    },
    {
     "name": "stderr",
     "output_type": "stream",
     "text": [
      "/Users/xinc./Library/Python/3.9/lib/python/site-packages/numpy/lib/function_base.py:520: RuntimeWarning: Mean of empty slice.\n",
      "  avg = a.mean(axis, **keepdims_kw)\n",
      "/Users/xinc./Library/Python/3.9/lib/python/site-packages/numpy/core/_methods.py:129: RuntimeWarning: invalid value encountered in scalar divide\n",
      "  ret = ret.dtype.type(ret / rcount)\n",
      "/Users/xinc./Library/Python/3.9/lib/python/site-packages/numpy/core/_methods.py:206: RuntimeWarning: Degrees of freedom <= 0 for slice\n",
      "  ret = _var(a, axis=axis, dtype=dtype, out=out, ddof=ddof,\n",
      "/Users/xinc./Library/Python/3.9/lib/python/site-packages/numpy/core/_methods.py:163: RuntimeWarning: invalid value encountered in divide\n",
      "  arrmean = um.true_divide(arrmean, div, out=arrmean,\n",
      "/Users/xinc./Library/Python/3.9/lib/python/site-packages/numpy/core/_methods.py:198: RuntimeWarning: invalid value encountered in scalar divide\n",
      "  ret = ret.dtype.type(ret / rcount)\n"
     ]
    },
    {
     "name": "stdout",
     "output_type": "stream",
     "text": [
      "2021-05-21 00:00:00 \t ave = nan% \t std.s = nan\n",
      "**************************************************************\n"
     ]
    },
    {
     "name": "stderr",
     "output_type": "stream",
     "text": [
      "/Users/xinc./Library/Python/3.9/lib/python/site-packages/numpy/lib/function_base.py:520: RuntimeWarning: Mean of empty slice.\n",
      "  avg = a.mean(axis, **keepdims_kw)\n",
      "/Users/xinc./Library/Python/3.9/lib/python/site-packages/numpy/core/_methods.py:129: RuntimeWarning: invalid value encountered in scalar divide\n",
      "  ret = ret.dtype.type(ret / rcount)\n",
      "/Users/xinc./Library/Python/3.9/lib/python/site-packages/numpy/core/_methods.py:206: RuntimeWarning: Degrees of freedom <= 0 for slice\n",
      "  ret = _var(a, axis=axis, dtype=dtype, out=out, ddof=ddof,\n",
      "/Users/xinc./Library/Python/3.9/lib/python/site-packages/numpy/core/_methods.py:163: RuntimeWarning: invalid value encountered in divide\n",
      "  arrmean = um.true_divide(arrmean, div, out=arrmean,\n",
      "/Users/xinc./Library/Python/3.9/lib/python/site-packages/numpy/core/_methods.py:198: RuntimeWarning: invalid value encountered in scalar divide\n",
      "  ret = ret.dtype.type(ret / rcount)\n"
     ]
    },
    {
     "name": "stdout",
     "output_type": "stream",
     "text": [
      "2021-05-24 00:00:00 \t ave = nan% \t std.s = nan\n",
      "**************************************************************\n"
     ]
    },
    {
     "name": "stderr",
     "output_type": "stream",
     "text": [
      "/Users/xinc./Library/Python/3.9/lib/python/site-packages/numpy/lib/function_base.py:520: RuntimeWarning: Mean of empty slice.\n",
      "  avg = a.mean(axis, **keepdims_kw)\n",
      "/Users/xinc./Library/Python/3.9/lib/python/site-packages/numpy/core/_methods.py:129: RuntimeWarning: invalid value encountered in scalar divide\n",
      "  ret = ret.dtype.type(ret / rcount)\n",
      "/Users/xinc./Library/Python/3.9/lib/python/site-packages/numpy/core/_methods.py:206: RuntimeWarning: Degrees of freedom <= 0 for slice\n",
      "  ret = _var(a, axis=axis, dtype=dtype, out=out, ddof=ddof,\n",
      "/Users/xinc./Library/Python/3.9/lib/python/site-packages/numpy/core/_methods.py:163: RuntimeWarning: invalid value encountered in divide\n",
      "  arrmean = um.true_divide(arrmean, div, out=arrmean,\n",
      "/Users/xinc./Library/Python/3.9/lib/python/site-packages/numpy/core/_methods.py:198: RuntimeWarning: invalid value encountered in scalar divide\n",
      "  ret = ret.dtype.type(ret / rcount)\n"
     ]
    },
    {
     "name": "stdout",
     "output_type": "stream",
     "text": [
      "2021-05-25 00:00:00 \t ave = nan% \t std.s = nan\n",
      "**************************************************************\n"
     ]
    },
    {
     "name": "stderr",
     "output_type": "stream",
     "text": [
      "/Users/xinc./Library/Python/3.9/lib/python/site-packages/numpy/lib/function_base.py:520: RuntimeWarning: Mean of empty slice.\n",
      "  avg = a.mean(axis, **keepdims_kw)\n",
      "/Users/xinc./Library/Python/3.9/lib/python/site-packages/numpy/core/_methods.py:129: RuntimeWarning: invalid value encountered in scalar divide\n",
      "  ret = ret.dtype.type(ret / rcount)\n",
      "/Users/xinc./Library/Python/3.9/lib/python/site-packages/numpy/core/_methods.py:206: RuntimeWarning: Degrees of freedom <= 0 for slice\n",
      "  ret = _var(a, axis=axis, dtype=dtype, out=out, ddof=ddof,\n",
      "/Users/xinc./Library/Python/3.9/lib/python/site-packages/numpy/core/_methods.py:163: RuntimeWarning: invalid value encountered in divide\n",
      "  arrmean = um.true_divide(arrmean, div, out=arrmean,\n",
      "/Users/xinc./Library/Python/3.9/lib/python/site-packages/numpy/core/_methods.py:198: RuntimeWarning: invalid value encountered in scalar divide\n",
      "  ret = ret.dtype.type(ret / rcount)\n"
     ]
    },
    {
     "name": "stdout",
     "output_type": "stream",
     "text": [
      "2021-05-26 00:00:00 \t ave = nan% \t std.s = nan\n",
      "**************************************************************\n"
     ]
    },
    {
     "name": "stderr",
     "output_type": "stream",
     "text": [
      "/Users/xinc./Library/Python/3.9/lib/python/site-packages/numpy/lib/function_base.py:520: RuntimeWarning: Mean of empty slice.\n",
      "  avg = a.mean(axis, **keepdims_kw)\n",
      "/Users/xinc./Library/Python/3.9/lib/python/site-packages/numpy/core/_methods.py:129: RuntimeWarning: invalid value encountered in scalar divide\n",
      "  ret = ret.dtype.type(ret / rcount)\n",
      "/Users/xinc./Library/Python/3.9/lib/python/site-packages/numpy/core/_methods.py:206: RuntimeWarning: Degrees of freedom <= 0 for slice\n",
      "  ret = _var(a, axis=axis, dtype=dtype, out=out, ddof=ddof,\n",
      "/Users/xinc./Library/Python/3.9/lib/python/site-packages/numpy/core/_methods.py:163: RuntimeWarning: invalid value encountered in divide\n",
      "  arrmean = um.true_divide(arrmean, div, out=arrmean,\n",
      "/Users/xinc./Library/Python/3.9/lib/python/site-packages/numpy/core/_methods.py:198: RuntimeWarning: invalid value encountered in scalar divide\n",
      "  ret = ret.dtype.type(ret / rcount)\n"
     ]
    },
    {
     "name": "stdout",
     "output_type": "stream",
     "text": [
      "2021-05-27 00:00:00 \t ave = nan% \t std.s = nan\n",
      "**************************************************************\n",
      "2021-05-28 00:00:00 \t ave = 8.8941% \t std.s = 0.031656\n",
      "**************************************************************\n"
     ]
    },
    {
     "name": "stderr",
     "output_type": "stream",
     "text": [
      "/Users/xinc./Library/Python/3.9/lib/python/site-packages/numpy/lib/function_base.py:520: RuntimeWarning: Mean of empty slice.\n",
      "  avg = a.mean(axis, **keepdims_kw)\n",
      "/Users/xinc./Library/Python/3.9/lib/python/site-packages/numpy/core/_methods.py:129: RuntimeWarning: invalid value encountered in scalar divide\n",
      "  ret = ret.dtype.type(ret / rcount)\n",
      "/Users/xinc./Library/Python/3.9/lib/python/site-packages/numpy/core/_methods.py:206: RuntimeWarning: Degrees of freedom <= 0 for slice\n",
      "  ret = _var(a, axis=axis, dtype=dtype, out=out, ddof=ddof,\n",
      "/Users/xinc./Library/Python/3.9/lib/python/site-packages/numpy/core/_methods.py:163: RuntimeWarning: invalid value encountered in divide\n",
      "  arrmean = um.true_divide(arrmean, div, out=arrmean,\n",
      "/Users/xinc./Library/Python/3.9/lib/python/site-packages/numpy/core/_methods.py:198: RuntimeWarning: invalid value encountered in scalar divide\n",
      "  ret = ret.dtype.type(ret / rcount)\n"
     ]
    },
    {
     "name": "stdout",
     "output_type": "stream",
     "text": [
      "2021-05-31 00:00:00 \t ave = nan% \t std.s = nan\n",
      "**************************************************************\n",
      "2021-06-01 00:00:00 \t ave = 5.1073% \t std.s = 0.029532\n",
      "**************************************************************\n",
      "2021-06-02 00:00:00 \t ave = 6.8795% \t std.s = 0.049586\n",
      "**************************************************************\n",
      "2021-06-03 00:00:00 \t ave = 11.8680% \t std.s = 0.018662\n",
      "**************************************************************\n",
      "2021-06-04 00:00:00 \t ave = 12.5113% \t std.s = 0.019441\n",
      "**************************************************************\n",
      "2021-06-07 00:00:00 \t ave = 11.8979% \t std.s = 0.042590\n",
      "**************************************************************\n",
      "2021-06-08 00:00:00 \t ave = 10.6536% \t std.s = 0.036589\n",
      "**************************************************************\n",
      "2021-06-09 00:00:00 \t ave = 9.9473% \t std.s = 0.062834\n",
      "**************************************************************\n",
      "2021-06-10 00:00:00 \t ave = 13.6823% \t std.s = 0.021744\n",
      "**************************************************************\n",
      "2021-06-11 00:00:00 \t ave = 14.7309% \t std.s = 0.018561\n",
      "**************************************************************\n",
      "2021-06-15 00:00:00 \t ave = 16.5743% \t std.s = 0.037471\n",
      "**************************************************************\n",
      "2021-06-16 00:00:00 \t ave = 5.8587% \t std.s = 0.033435\n",
      "**************************************************************\n",
      "2021-06-17 00:00:00 \t ave = 16.2620% \t std.s = 0.050161\n",
      "**************************************************************\n",
      "2021-06-18 00:00:00 \t ave = 13.7514% \t std.s = 0.002763\n",
      "**************************************************************\n",
      "2021-06-21 00:00:00 \t ave = 18.1204% \t std.s = 0.038196\n",
      "**************************************************************\n",
      "2021-06-22 00:00:00 \t ave = 15.9137% \t std.s = 0.034817\n",
      "**************************************************************\n",
      "2021-06-23 00:00:00 \t ave = 14.8045% \t std.s = 0.049017\n",
      "**************************************************************\n",
      "2021-06-24 00:00:00 \t ave = 12.9950% \t std.s = 0.006368\n",
      "**************************************************************\n",
      "2021-06-25 00:00:00 \t ave = 14.6509% \t std.s = 0.014274\n",
      "**************************************************************\n",
      "2021-06-28 00:00:00 \t ave = 12.9780% \t std.s = 0.020143\n",
      "**************************************************************\n",
      "2021-06-29 00:00:00 \t ave = 14.2160% \t std.s = 0.012435\n",
      "**************************************************************\n",
      "2021-06-30 00:00:00 \t ave = 12.3257% \t std.s = 0.037719\n",
      "**************************************************************\n",
      "2021-07-01 00:00:00 \t ave = 8.2567% \t std.s = 0.019838\n",
      "**************************************************************\n",
      "2021-07-02 00:00:00 \t ave = 7.6278% \t std.s = 0.023784\n",
      "**************************************************************\n",
      "2021-07-05 00:00:00 \t ave = 5.6823% \t std.s = 0.027985\n",
      "**************************************************************\n",
      "2021-07-06 00:00:00 \t ave = 5.7063% \t std.s = 0.025828\n",
      "**************************************************************\n",
      "2021-07-07 00:00:00 \t ave = 5.6426% \t std.s = 0.035179\n",
      "**************************************************************\n",
      "2021-07-08 00:00:00 \t ave = 8.8827% \t std.s = 0.020818\n",
      "**************************************************************\n",
      "2021-07-09 00:00:00 \t ave = 10.2481% \t std.s = 0.024287\n",
      "**************************************************************\n",
      "2021-07-12 00:00:00 \t ave = 9.5837% \t std.s = 0.026144\n",
      "**************************************************************\n",
      "2021-07-13 00:00:00 \t ave = 9.2825% \t std.s = 0.034954\n",
      "**************************************************************\n",
      "2021-07-14 00:00:00 \t ave = 8.1561% \t std.s = 0.050363\n",
      "**************************************************************\n",
      "2021-07-15 00:00:00 \t ave = 11.3575% \t std.s = 0.017894\n",
      "**************************************************************\n",
      "2021-07-16 00:00:00 \t ave = 13.0862% \t std.s = 0.024338\n",
      "**************************************************************\n"
     ]
    },
    {
     "name": "stderr",
     "output_type": "stream",
     "text": [
      "/Users/xinc./Library/Python/3.9/lib/python/site-packages/numpy/lib/function_base.py:520: RuntimeWarning: Mean of empty slice.\n",
      "  avg = a.mean(axis, **keepdims_kw)\n",
      "/Users/xinc./Library/Python/3.9/lib/python/site-packages/numpy/core/_methods.py:129: RuntimeWarning: invalid value encountered in scalar divide\n",
      "  ret = ret.dtype.type(ret / rcount)\n",
      "/Users/xinc./Library/Python/3.9/lib/python/site-packages/numpy/core/_methods.py:206: RuntimeWarning: Degrees of freedom <= 0 for slice\n",
      "  ret = _var(a, axis=axis, dtype=dtype, out=out, ddof=ddof,\n",
      "/Users/xinc./Library/Python/3.9/lib/python/site-packages/numpy/core/_methods.py:163: RuntimeWarning: invalid value encountered in divide\n",
      "  arrmean = um.true_divide(arrmean, div, out=arrmean,\n",
      "/Users/xinc./Library/Python/3.9/lib/python/site-packages/numpy/core/_methods.py:198: RuntimeWarning: invalid value encountered in scalar divide\n",
      "  ret = ret.dtype.type(ret / rcount)\n"
     ]
    },
    {
     "name": "stdout",
     "output_type": "stream",
     "text": [
      "2021-07-19 00:00:00 \t ave = nan% \t std.s = nan\n",
      "**************************************************************\n",
      "2021-07-20 00:00:00 \t ave = 30.3957% \t std.s = 0.072571\n",
      "**************************************************************\n",
      "2021-07-21 00:00:00 \t ave = 5.2658% \t std.s = 0.019140\n",
      "**************************************************************\n",
      "2021-07-22 00:00:00 \t ave = 15.3318% \t std.s = 0.038437\n",
      "**************************************************************\n",
      "2021-07-23 00:00:00 \t ave = 13.3582% \t std.s = 0.006973\n",
      "**************************************************************\n"
     ]
    },
    {
     "name": "stderr",
     "output_type": "stream",
     "text": [
      "/Users/xinc./Library/Python/3.9/lib/python/site-packages/numpy/lib/function_base.py:520: RuntimeWarning: Mean of empty slice.\n",
      "  avg = a.mean(axis, **keepdims_kw)\n",
      "/Users/xinc./Library/Python/3.9/lib/python/site-packages/numpy/core/_methods.py:129: RuntimeWarning: invalid value encountered in scalar divide\n",
      "  ret = ret.dtype.type(ret / rcount)\n",
      "/Users/xinc./Library/Python/3.9/lib/python/site-packages/numpy/core/_methods.py:206: RuntimeWarning: Degrees of freedom <= 0 for slice\n",
      "  ret = _var(a, axis=axis, dtype=dtype, out=out, ddof=ddof,\n",
      "/Users/xinc./Library/Python/3.9/lib/python/site-packages/numpy/core/_methods.py:163: RuntimeWarning: invalid value encountered in divide\n",
      "  arrmean = um.true_divide(arrmean, div, out=arrmean,\n",
      "/Users/xinc./Library/Python/3.9/lib/python/site-packages/numpy/core/_methods.py:198: RuntimeWarning: invalid value encountered in scalar divide\n",
      "  ret = ret.dtype.type(ret / rcount)\n"
     ]
    },
    {
     "name": "stdout",
     "output_type": "stream",
     "text": [
      "2021-07-26 00:00:00 \t ave = nan% \t std.s = nan\n",
      "**************************************************************\n"
     ]
    },
    {
     "name": "stderr",
     "output_type": "stream",
     "text": [
      "/Users/xinc./Library/Python/3.9/lib/python/site-packages/numpy/lib/function_base.py:520: RuntimeWarning: Mean of empty slice.\n",
      "  avg = a.mean(axis, **keepdims_kw)\n",
      "/Users/xinc./Library/Python/3.9/lib/python/site-packages/numpy/core/_methods.py:129: RuntimeWarning: invalid value encountered in scalar divide\n",
      "  ret = ret.dtype.type(ret / rcount)\n",
      "/Users/xinc./Library/Python/3.9/lib/python/site-packages/numpy/core/_methods.py:206: RuntimeWarning: Degrees of freedom <= 0 for slice\n",
      "  ret = _var(a, axis=axis, dtype=dtype, out=out, ddof=ddof,\n",
      "/Users/xinc./Library/Python/3.9/lib/python/site-packages/numpy/core/_methods.py:163: RuntimeWarning: invalid value encountered in divide\n",
      "  arrmean = um.true_divide(arrmean, div, out=arrmean,\n",
      "/Users/xinc./Library/Python/3.9/lib/python/site-packages/numpy/core/_methods.py:198: RuntimeWarning: invalid value encountered in scalar divide\n",
      "  ret = ret.dtype.type(ret / rcount)\n"
     ]
    },
    {
     "name": "stdout",
     "output_type": "stream",
     "text": [
      "2021-07-27 00:00:00 \t ave = nan% \t std.s = nan\n",
      "**************************************************************\n",
      "2021-07-28 00:00:00 \t ave = 13.4133% \t std.s = 0.064285\n",
      "**************************************************************\n",
      "2021-07-29 00:00:00 \t ave = 6.7189% \t std.s = 0.028515\n",
      "**************************************************************\n"
     ]
    },
    {
     "name": "stderr",
     "output_type": "stream",
     "text": [
      "/Users/xinc./Library/Python/3.9/lib/python/site-packages/numpy/lib/function_base.py:520: RuntimeWarning: Mean of empty slice.\n",
      "  avg = a.mean(axis, **keepdims_kw)\n",
      "/Users/xinc./Library/Python/3.9/lib/python/site-packages/numpy/core/_methods.py:129: RuntimeWarning: invalid value encountered in scalar divide\n",
      "  ret = ret.dtype.type(ret / rcount)\n",
      "/Users/xinc./Library/Python/3.9/lib/python/site-packages/numpy/core/_methods.py:206: RuntimeWarning: Degrees of freedom <= 0 for slice\n",
      "  ret = _var(a, axis=axis, dtype=dtype, out=out, ddof=ddof,\n",
      "/Users/xinc./Library/Python/3.9/lib/python/site-packages/numpy/core/_methods.py:163: RuntimeWarning: invalid value encountered in divide\n",
      "  arrmean = um.true_divide(arrmean, div, out=arrmean,\n",
      "/Users/xinc./Library/Python/3.9/lib/python/site-packages/numpy/core/_methods.py:198: RuntimeWarning: invalid value encountered in scalar divide\n",
      "  ret = ret.dtype.type(ret / rcount)\n"
     ]
    },
    {
     "name": "stdout",
     "output_type": "stream",
     "text": [
      "2021-07-30 00:00:00 \t ave = nan% \t std.s = nan\n",
      "**************************************************************\n",
      "2021-08-02 00:00:00 \t ave = 5.8551% \t std.s = 0.031777\n",
      "**************************************************************\n",
      "2021-08-03 00:00:00 \t ave = 5.2310% \t std.s = 0.046735\n",
      "**************************************************************\n",
      "2021-08-04 00:00:00 \t ave = 10.8918% \t std.s = 0.050312\n",
      "**************************************************************\n",
      "2021-08-05 00:00:00 \t ave = 8.8781% \t std.s = 0.015488\n",
      "**************************************************************\n",
      "2021-08-06 00:00:00 \t ave = 8.7165% \t std.s = 0.023127\n",
      "**************************************************************\n",
      "2021-08-09 00:00:00 \t ave = 7.7393% \t std.s = 0.032528\n",
      "**************************************************************\n",
      "2021-08-10 00:00:00 \t ave = 8.3895% \t std.s = 0.030597\n",
      "**************************************************************\n",
      "2021-08-11 00:00:00 \t ave = 9.1141% \t std.s = 0.048464\n",
      "**************************************************************\n",
      "2021-08-12 00:00:00 \t ave = 14.5329% \t std.s = 0.071568\n",
      "**************************************************************\n",
      "2021-08-13 00:00:00 \t ave = 16.5920% \t std.s = 0.028675\n",
      "**************************************************************\n",
      "2021-08-16 00:00:00 \t ave = 20.4333% \t std.s = 0.045383\n",
      "**************************************************************\n",
      "2021-08-17 00:00:00 \t ave = 28.0930% \t std.s = 0.083443\n",
      "**************************************************************\n",
      "2021-08-18 00:00:00 \t ave = 5.5934% \t std.s = 0.015590\n",
      "**************************************************************\n",
      "2021-08-19 00:00:00 \t ave = 19.8506% \t std.s = 0.049308\n",
      "**************************************************************\n",
      "2021-08-20 00:00:00 \t ave = 18.8264% \t std.s = 0.045850\n",
      "**************************************************************\n",
      "2021-08-23 00:00:00 \t ave = 16.2029% \t std.s = 0.020763\n",
      "**************************************************************\n",
      "2021-08-24 00:00:00 \t ave = 15.2142% \t std.s = 0.007019\n",
      "**************************************************************\n",
      "2021-08-25 00:00:00 \t ave = 10.1187% \t std.s = 0.055391\n",
      "**************************************************************\n",
      "2021-08-26 00:00:00 \t ave = 9.5833% \t std.s = 0.031137\n",
      "**************************************************************\n",
      "2021-08-27 00:00:00 \t ave = 7.9888% \t std.s = 0.042020\n",
      "**************************************************************\n",
      "2021-08-30 00:00:00 \t ave = 7.0755% \t std.s = 0.046068\n",
      "**************************************************************\n",
      "2021-08-31 00:00:00 \t ave = 6.5482% \t std.s = 0.042289\n",
      "**************************************************************\n"
     ]
    },
    {
     "name": "stderr",
     "output_type": "stream",
     "text": [
      "/Users/xinc./Library/Python/3.9/lib/python/site-packages/numpy/lib/function_base.py:520: RuntimeWarning: Mean of empty slice.\n",
      "  avg = a.mean(axis, **keepdims_kw)\n",
      "/Users/xinc./Library/Python/3.9/lib/python/site-packages/numpy/core/_methods.py:129: RuntimeWarning: invalid value encountered in scalar divide\n",
      "  ret = ret.dtype.type(ret / rcount)\n",
      "/Users/xinc./Library/Python/3.9/lib/python/site-packages/numpy/core/_methods.py:206: RuntimeWarning: Degrees of freedom <= 0 for slice\n",
      "  ret = _var(a, axis=axis, dtype=dtype, out=out, ddof=ddof,\n",
      "/Users/xinc./Library/Python/3.9/lib/python/site-packages/numpy/core/_methods.py:163: RuntimeWarning: invalid value encountered in divide\n",
      "  arrmean = um.true_divide(arrmean, div, out=arrmean,\n",
      "/Users/xinc./Library/Python/3.9/lib/python/site-packages/numpy/core/_methods.py:198: RuntimeWarning: invalid value encountered in scalar divide\n",
      "  ret = ret.dtype.type(ret / rcount)\n"
     ]
    },
    {
     "name": "stdout",
     "output_type": "stream",
     "text": [
      "2021-09-01 00:00:00 \t ave = nan% \t std.s = nan\n",
      "**************************************************************\n"
     ]
    },
    {
     "name": "stderr",
     "output_type": "stream",
     "text": [
      "/Users/xinc./Library/Python/3.9/lib/python/site-packages/numpy/lib/function_base.py:520: RuntimeWarning: Mean of empty slice.\n",
      "  avg = a.mean(axis, **keepdims_kw)\n",
      "/Users/xinc./Library/Python/3.9/lib/python/site-packages/numpy/core/_methods.py:129: RuntimeWarning: invalid value encountered in scalar divide\n",
      "  ret = ret.dtype.type(ret / rcount)\n",
      "/Users/xinc./Library/Python/3.9/lib/python/site-packages/numpy/core/_methods.py:206: RuntimeWarning: Degrees of freedom <= 0 for slice\n",
      "  ret = _var(a, axis=axis, dtype=dtype, out=out, ddof=ddof,\n",
      "/Users/xinc./Library/Python/3.9/lib/python/site-packages/numpy/core/_methods.py:163: RuntimeWarning: invalid value encountered in divide\n",
      "  arrmean = um.true_divide(arrmean, div, out=arrmean,\n",
      "/Users/xinc./Library/Python/3.9/lib/python/site-packages/numpy/core/_methods.py:198: RuntimeWarning: invalid value encountered in scalar divide\n",
      "  ret = ret.dtype.type(ret / rcount)\n"
     ]
    },
    {
     "name": "stdout",
     "output_type": "stream",
     "text": [
      "2021-09-02 00:00:00 \t ave = nan% \t std.s = nan\n",
      "**************************************************************\n"
     ]
    },
    {
     "name": "stderr",
     "output_type": "stream",
     "text": [
      "/Users/xinc./Library/Python/3.9/lib/python/site-packages/numpy/lib/function_base.py:520: RuntimeWarning: Mean of empty slice.\n",
      "  avg = a.mean(axis, **keepdims_kw)\n",
      "/Users/xinc./Library/Python/3.9/lib/python/site-packages/numpy/core/_methods.py:129: RuntimeWarning: invalid value encountered in scalar divide\n",
      "  ret = ret.dtype.type(ret / rcount)\n",
      "/Users/xinc./Library/Python/3.9/lib/python/site-packages/numpy/core/_methods.py:206: RuntimeWarning: Degrees of freedom <= 0 for slice\n",
      "  ret = _var(a, axis=axis, dtype=dtype, out=out, ddof=ddof,\n",
      "/Users/xinc./Library/Python/3.9/lib/python/site-packages/numpy/core/_methods.py:163: RuntimeWarning: invalid value encountered in divide\n",
      "  arrmean = um.true_divide(arrmean, div, out=arrmean,\n",
      "/Users/xinc./Library/Python/3.9/lib/python/site-packages/numpy/core/_methods.py:198: RuntimeWarning: invalid value encountered in scalar divide\n",
      "  ret = ret.dtype.type(ret / rcount)\n"
     ]
    },
    {
     "name": "stdout",
     "output_type": "stream",
     "text": [
      "2021-09-03 00:00:00 \t ave = nan% \t std.s = nan\n",
      "**************************************************************\n",
      "2021-09-06 00:00:00 \t ave = 10.4098% \t std.s = 0.030218\n",
      "**************************************************************\n",
      "2021-09-07 00:00:00 \t ave = 8.2658% \t std.s = 0.031661\n",
      "**************************************************************\n",
      "2021-09-08 00:00:00 \t ave = 9.7620% \t std.s = 0.049264\n",
      "**************************************************************\n",
      "2021-09-09 00:00:00 \t ave = 13.1668% \t std.s = 0.016255\n",
      "**************************************************************\n",
      "2021-09-10 00:00:00 \t ave = 11.2026% \t std.s = 0.020940\n",
      "**************************************************************\n",
      "2021-09-13 00:00:00 \t ave = 17.8023% \t std.s = 0.025853\n",
      "**************************************************************\n"
     ]
    },
    {
     "name": "stderr",
     "output_type": "stream",
     "text": [
      "/Users/xinc./Library/Python/3.9/lib/python/site-packages/numpy/lib/function_base.py:520: RuntimeWarning: Mean of empty slice.\n",
      "  avg = a.mean(axis, **keepdims_kw)\n",
      "/Users/xinc./Library/Python/3.9/lib/python/site-packages/numpy/core/_methods.py:129: RuntimeWarning: invalid value encountered in scalar divide\n",
      "  ret = ret.dtype.type(ret / rcount)\n",
      "/Users/xinc./Library/Python/3.9/lib/python/site-packages/numpy/core/_methods.py:206: RuntimeWarning: Degrees of freedom <= 0 for slice\n",
      "  ret = _var(a, axis=axis, dtype=dtype, out=out, ddof=ddof,\n",
      "/Users/xinc./Library/Python/3.9/lib/python/site-packages/numpy/core/_methods.py:163: RuntimeWarning: invalid value encountered in divide\n",
      "  arrmean = um.true_divide(arrmean, div, out=arrmean,\n",
      "/Users/xinc./Library/Python/3.9/lib/python/site-packages/numpy/core/_methods.py:198: RuntimeWarning: invalid value encountered in scalar divide\n",
      "  ret = ret.dtype.type(ret / rcount)\n"
     ]
    },
    {
     "name": "stdout",
     "output_type": "stream",
     "text": [
      "2021-09-14 00:00:00 \t ave = nan% \t std.s = nan\n",
      "**************************************************************\n"
     ]
    },
    {
     "name": "stderr",
     "output_type": "stream",
     "text": [
      "/Users/xinc./Library/Python/3.9/lib/python/site-packages/numpy/lib/function_base.py:520: RuntimeWarning: Mean of empty slice.\n",
      "  avg = a.mean(axis, **keepdims_kw)\n",
      "/Users/xinc./Library/Python/3.9/lib/python/site-packages/numpy/core/_methods.py:129: RuntimeWarning: invalid value encountered in scalar divide\n",
      "  ret = ret.dtype.type(ret / rcount)\n",
      "/Users/xinc./Library/Python/3.9/lib/python/site-packages/numpy/core/_methods.py:206: RuntimeWarning: Degrees of freedom <= 0 for slice\n",
      "  ret = _var(a, axis=axis, dtype=dtype, out=out, ddof=ddof,\n",
      "/Users/xinc./Library/Python/3.9/lib/python/site-packages/numpy/core/_methods.py:163: RuntimeWarning: invalid value encountered in divide\n",
      "  arrmean = um.true_divide(arrmean, div, out=arrmean,\n",
      "/Users/xinc./Library/Python/3.9/lib/python/site-packages/numpy/core/_methods.py:198: RuntimeWarning: invalid value encountered in scalar divide\n",
      "  ret = ret.dtype.type(ret / rcount)\n"
     ]
    },
    {
     "name": "stdout",
     "output_type": "stream",
     "text": [
      "2021-09-15 00:00:00 \t ave = nan% \t std.s = nan\n",
      "**************************************************************\n"
     ]
    },
    {
     "name": "stderr",
     "output_type": "stream",
     "text": [
      "/Users/xinc./Library/Python/3.9/lib/python/site-packages/numpy/lib/function_base.py:520: RuntimeWarning: Mean of empty slice.\n",
      "  avg = a.mean(axis, **keepdims_kw)\n",
      "/Users/xinc./Library/Python/3.9/lib/python/site-packages/numpy/core/_methods.py:129: RuntimeWarning: invalid value encountered in scalar divide\n",
      "  ret = ret.dtype.type(ret / rcount)\n",
      "/Users/xinc./Library/Python/3.9/lib/python/site-packages/numpy/core/_methods.py:206: RuntimeWarning: Degrees of freedom <= 0 for slice\n",
      "  ret = _var(a, axis=axis, dtype=dtype, out=out, ddof=ddof,\n",
      "/Users/xinc./Library/Python/3.9/lib/python/site-packages/numpy/core/_methods.py:163: RuntimeWarning: invalid value encountered in divide\n",
      "  arrmean = um.true_divide(arrmean, div, out=arrmean,\n",
      "/Users/xinc./Library/Python/3.9/lib/python/site-packages/numpy/core/_methods.py:198: RuntimeWarning: invalid value encountered in scalar divide\n",
      "  ret = ret.dtype.type(ret / rcount)\n"
     ]
    },
    {
     "name": "stdout",
     "output_type": "stream",
     "text": [
      "2021-09-16 00:00:00 \t ave = nan% \t std.s = nan\n",
      "**************************************************************\n"
     ]
    },
    {
     "name": "stderr",
     "output_type": "stream",
     "text": [
      "/Users/xinc./Library/Python/3.9/lib/python/site-packages/numpy/lib/function_base.py:520: RuntimeWarning: Mean of empty slice.\n",
      "  avg = a.mean(axis, **keepdims_kw)\n",
      "/Users/xinc./Library/Python/3.9/lib/python/site-packages/numpy/core/_methods.py:129: RuntimeWarning: invalid value encountered in scalar divide\n",
      "  ret = ret.dtype.type(ret / rcount)\n",
      "/Users/xinc./Library/Python/3.9/lib/python/site-packages/numpy/core/_methods.py:206: RuntimeWarning: Degrees of freedom <= 0 for slice\n",
      "  ret = _var(a, axis=axis, dtype=dtype, out=out, ddof=ddof,\n",
      "/Users/xinc./Library/Python/3.9/lib/python/site-packages/numpy/core/_methods.py:163: RuntimeWarning: invalid value encountered in divide\n",
      "  arrmean = um.true_divide(arrmean, div, out=arrmean,\n",
      "/Users/xinc./Library/Python/3.9/lib/python/site-packages/numpy/core/_methods.py:198: RuntimeWarning: invalid value encountered in scalar divide\n",
      "  ret = ret.dtype.type(ret / rcount)\n"
     ]
    },
    {
     "name": "stdout",
     "output_type": "stream",
     "text": [
      "2021-09-17 00:00:00 \t ave = nan% \t std.s = nan\n",
      "**************************************************************\n",
      "2021-09-22 00:00:00 \t ave = 18.4205% \t std.s = 0.034813\n",
      "**************************************************************\n",
      "2021-09-23 00:00:00 \t ave = 14.7048% \t std.s = 0.014697\n",
      "**************************************************************\n",
      "2021-09-24 00:00:00 \t ave = 13.4172% \t std.s = 0.012312\n",
      "**************************************************************\n",
      "2021-09-27 00:00:00 \t ave = 14.8662% \t std.s = 0.027542\n",
      "**************************************************************\n"
     ]
    },
    {
     "name": "stderr",
     "output_type": "stream",
     "text": [
      "/Users/xinc./Library/Python/3.9/lib/python/site-packages/numpy/lib/function_base.py:520: RuntimeWarning: Mean of empty slice.\n",
      "  avg = a.mean(axis, **keepdims_kw)\n",
      "/Users/xinc./Library/Python/3.9/lib/python/site-packages/numpy/core/_methods.py:129: RuntimeWarning: invalid value encountered in scalar divide\n",
      "  ret = ret.dtype.type(ret / rcount)\n",
      "/Users/xinc./Library/Python/3.9/lib/python/site-packages/numpy/core/_methods.py:206: RuntimeWarning: Degrees of freedom <= 0 for slice\n",
      "  ret = _var(a, axis=axis, dtype=dtype, out=out, ddof=ddof,\n",
      "/Users/xinc./Library/Python/3.9/lib/python/site-packages/numpy/core/_methods.py:163: RuntimeWarning: invalid value encountered in divide\n",
      "  arrmean = um.true_divide(arrmean, div, out=arrmean,\n",
      "/Users/xinc./Library/Python/3.9/lib/python/site-packages/numpy/core/_methods.py:198: RuntimeWarning: invalid value encountered in scalar divide\n",
      "  ret = ret.dtype.type(ret / rcount)\n"
     ]
    },
    {
     "name": "stdout",
     "output_type": "stream",
     "text": [
      "2021-09-28 00:00:00 \t ave = nan% \t std.s = nan\n",
      "**************************************************************\n"
     ]
    },
    {
     "name": "stderr",
     "output_type": "stream",
     "text": [
      "/Users/xinc./Library/Python/3.9/lib/python/site-packages/numpy/lib/function_base.py:520: RuntimeWarning: Mean of empty slice.\n",
      "  avg = a.mean(axis, **keepdims_kw)\n",
      "/Users/xinc./Library/Python/3.9/lib/python/site-packages/numpy/core/_methods.py:129: RuntimeWarning: invalid value encountered in scalar divide\n",
      "  ret = ret.dtype.type(ret / rcount)\n",
      "/Users/xinc./Library/Python/3.9/lib/python/site-packages/numpy/core/_methods.py:206: RuntimeWarning: Degrees of freedom <= 0 for slice\n",
      "  ret = _var(a, axis=axis, dtype=dtype, out=out, ddof=ddof,\n",
      "/Users/xinc./Library/Python/3.9/lib/python/site-packages/numpy/core/_methods.py:163: RuntimeWarning: invalid value encountered in divide\n",
      "  arrmean = um.true_divide(arrmean, div, out=arrmean,\n",
      "/Users/xinc./Library/Python/3.9/lib/python/site-packages/numpy/core/_methods.py:198: RuntimeWarning: invalid value encountered in scalar divide\n",
      "  ret = ret.dtype.type(ret / rcount)\n"
     ]
    },
    {
     "name": "stdout",
     "output_type": "stream",
     "text": [
      "2021-09-29 00:00:00 \t ave = nan% \t std.s = nan\n",
      "**************************************************************\n",
      "2021-09-30 00:00:00 \t ave = 9.9422% \t std.s = 0.040959\n",
      "**************************************************************\n"
     ]
    },
    {
     "name": "stderr",
     "output_type": "stream",
     "text": [
      "/Users/xinc./Library/Python/3.9/lib/python/site-packages/numpy/lib/function_base.py:520: RuntimeWarning: Mean of empty slice.\n",
      "  avg = a.mean(axis, **keepdims_kw)\n",
      "/Users/xinc./Library/Python/3.9/lib/python/site-packages/numpy/core/_methods.py:129: RuntimeWarning: invalid value encountered in scalar divide\n",
      "  ret = ret.dtype.type(ret / rcount)\n",
      "/Users/xinc./Library/Python/3.9/lib/python/site-packages/numpy/core/_methods.py:206: RuntimeWarning: Degrees of freedom <= 0 for slice\n",
      "  ret = _var(a, axis=axis, dtype=dtype, out=out, ddof=ddof,\n",
      "/Users/xinc./Library/Python/3.9/lib/python/site-packages/numpy/core/_methods.py:163: RuntimeWarning: invalid value encountered in divide\n",
      "  arrmean = um.true_divide(arrmean, div, out=arrmean,\n",
      "/Users/xinc./Library/Python/3.9/lib/python/site-packages/numpy/core/_methods.py:198: RuntimeWarning: invalid value encountered in scalar divide\n",
      "  ret = ret.dtype.type(ret / rcount)\n"
     ]
    },
    {
     "name": "stdout",
     "output_type": "stream",
     "text": [
      "2021-10-01 00:00:00 \t ave = nan% \t std.s = nan\n",
      "**************************************************************\n",
      "2021-10-04 00:00:00 \t ave = 11.7238% \t std.s = 0.043270\n",
      "**************************************************************\n"
     ]
    },
    {
     "name": "stderr",
     "output_type": "stream",
     "text": [
      "/Users/xinc./Library/Python/3.9/lib/python/site-packages/numpy/lib/function_base.py:520: RuntimeWarning: Mean of empty slice.\n",
      "  avg = a.mean(axis, **keepdims_kw)\n",
      "/Users/xinc./Library/Python/3.9/lib/python/site-packages/numpy/core/_methods.py:129: RuntimeWarning: invalid value encountered in scalar divide\n",
      "  ret = ret.dtype.type(ret / rcount)\n",
      "/Users/xinc./Library/Python/3.9/lib/python/site-packages/numpy/core/_methods.py:206: RuntimeWarning: Degrees of freedom <= 0 for slice\n",
      "  ret = _var(a, axis=axis, dtype=dtype, out=out, ddof=ddof,\n",
      "/Users/xinc./Library/Python/3.9/lib/python/site-packages/numpy/core/_methods.py:163: RuntimeWarning: invalid value encountered in divide\n",
      "  arrmean = um.true_divide(arrmean, div, out=arrmean,\n",
      "/Users/xinc./Library/Python/3.9/lib/python/site-packages/numpy/core/_methods.py:198: RuntimeWarning: invalid value encountered in scalar divide\n",
      "  ret = ret.dtype.type(ret / rcount)\n"
     ]
    },
    {
     "name": "stdout",
     "output_type": "stream",
     "text": [
      "2021-10-05 00:00:00 \t ave = nan% \t std.s = nan\n",
      "**************************************************************\n",
      "2021-10-06 00:00:00 \t ave = 9.7323% \t std.s = 0.063817\n",
      "**************************************************************\n",
      "2021-10-07 00:00:00 \t ave = 12.1945% \t std.s = 0.047382\n",
      "**************************************************************\n",
      "2021-10-08 00:00:00 \t ave = 13.0200% \t std.s = 0.041556\n",
      "**************************************************************\n",
      "2021-10-12 00:00:00 \t ave = 10.4163% \t std.s = 0.049025\n",
      "**************************************************************\n",
      "2021-10-13 00:00:00 \t ave = 11.0251% \t std.s = 0.065006\n",
      "**************************************************************\n"
     ]
    },
    {
     "name": "stderr",
     "output_type": "stream",
     "text": [
      "/Users/xinc./Library/Python/3.9/lib/python/site-packages/numpy/lib/function_base.py:520: RuntimeWarning: Mean of empty slice.\n",
      "  avg = a.mean(axis, **keepdims_kw)\n",
      "/Users/xinc./Library/Python/3.9/lib/python/site-packages/numpy/core/_methods.py:129: RuntimeWarning: invalid value encountered in scalar divide\n",
      "  ret = ret.dtype.type(ret / rcount)\n",
      "/Users/xinc./Library/Python/3.9/lib/python/site-packages/numpy/core/_methods.py:206: RuntimeWarning: Degrees of freedom <= 0 for slice\n",
      "  ret = _var(a, axis=axis, dtype=dtype, out=out, ddof=ddof,\n",
      "/Users/xinc./Library/Python/3.9/lib/python/site-packages/numpy/core/_methods.py:163: RuntimeWarning: invalid value encountered in divide\n",
      "  arrmean = um.true_divide(arrmean, div, out=arrmean,\n",
      "/Users/xinc./Library/Python/3.9/lib/python/site-packages/numpy/core/_methods.py:198: RuntimeWarning: invalid value encountered in scalar divide\n",
      "  ret = ret.dtype.type(ret / rcount)\n"
     ]
    },
    {
     "name": "stdout",
     "output_type": "stream",
     "text": [
      "2021-10-14 00:00:00 \t ave = nan% \t std.s = nan\n",
      "**************************************************************\n"
     ]
    },
    {
     "name": "stderr",
     "output_type": "stream",
     "text": [
      "/Users/xinc./Library/Python/3.9/lib/python/site-packages/numpy/lib/function_base.py:520: RuntimeWarning: Mean of empty slice.\n",
      "  avg = a.mean(axis, **keepdims_kw)\n",
      "/Users/xinc./Library/Python/3.9/lib/python/site-packages/numpy/core/_methods.py:129: RuntimeWarning: invalid value encountered in scalar divide\n",
      "  ret = ret.dtype.type(ret / rcount)\n",
      "/Users/xinc./Library/Python/3.9/lib/python/site-packages/numpy/core/_methods.py:206: RuntimeWarning: Degrees of freedom <= 0 for slice\n",
      "  ret = _var(a, axis=axis, dtype=dtype, out=out, ddof=ddof,\n",
      "/Users/xinc./Library/Python/3.9/lib/python/site-packages/numpy/core/_methods.py:163: RuntimeWarning: invalid value encountered in divide\n",
      "  arrmean = um.true_divide(arrmean, div, out=arrmean,\n",
      "/Users/xinc./Library/Python/3.9/lib/python/site-packages/numpy/core/_methods.py:198: RuntimeWarning: invalid value encountered in scalar divide\n",
      "  ret = ret.dtype.type(ret / rcount)\n"
     ]
    },
    {
     "name": "stdout",
     "output_type": "stream",
     "text": [
      "2021-10-15 00:00:00 \t ave = nan% \t std.s = nan\n",
      "**************************************************************\n",
      "2021-10-18 00:00:00 \t ave = 22.0270% \t std.s = 0.044179\n",
      "**************************************************************\n",
      "2021-10-19 00:00:00 \t ave = 18.4623% \t std.s = 0.061763\n",
      "**************************************************************\n",
      "2021-10-20 00:00:00 \t ave = 5.1256% \t std.s = 0.019407\n",
      "**************************************************************\n",
      "2021-10-21 00:00:00 \t ave = 15.4796% \t std.s = 0.014930\n",
      "**************************************************************\n",
      "2021-10-22 00:00:00 \t ave = 14.5993% \t std.s = 0.006423\n",
      "**************************************************************\n",
      "2021-10-25 00:00:00 \t ave = 14.5992% \t std.s = 0.008772\n",
      "**************************************************************\n",
      "2021-10-26 00:00:00 \t ave = 14.8965% \t std.s = 0.006173\n",
      "**************************************************************\n",
      "2021-10-27 00:00:00 \t ave = 10.2992% \t std.s = 0.034204\n",
      "**************************************************************\n"
     ]
    },
    {
     "name": "stderr",
     "output_type": "stream",
     "text": [
      "/Users/xinc./Library/Python/3.9/lib/python/site-packages/numpy/lib/function_base.py:520: RuntimeWarning: Mean of empty slice.\n",
      "  avg = a.mean(axis, **keepdims_kw)\n",
      "/Users/xinc./Library/Python/3.9/lib/python/site-packages/numpy/core/_methods.py:129: RuntimeWarning: invalid value encountered in scalar divide\n",
      "  ret = ret.dtype.type(ret / rcount)\n",
      "/Users/xinc./Library/Python/3.9/lib/python/site-packages/numpy/core/_methods.py:206: RuntimeWarning: Degrees of freedom <= 0 for slice\n",
      "  ret = _var(a, axis=axis, dtype=dtype, out=out, ddof=ddof,\n",
      "/Users/xinc./Library/Python/3.9/lib/python/site-packages/numpy/core/_methods.py:163: RuntimeWarning: invalid value encountered in divide\n",
      "  arrmean = um.true_divide(arrmean, div, out=arrmean,\n",
      "/Users/xinc./Library/Python/3.9/lib/python/site-packages/numpy/core/_methods.py:198: RuntimeWarning: invalid value encountered in scalar divide\n",
      "  ret = ret.dtype.type(ret / rcount)\n"
     ]
    },
    {
     "name": "stdout",
     "output_type": "stream",
     "text": [
      "2021-10-28 00:00:00 \t ave = nan% \t std.s = nan\n",
      "**************************************************************\n"
     ]
    },
    {
     "name": "stderr",
     "output_type": "stream",
     "text": [
      "/Users/xinc./Library/Python/3.9/lib/python/site-packages/numpy/lib/function_base.py:520: RuntimeWarning: Mean of empty slice.\n",
      "  avg = a.mean(axis, **keepdims_kw)\n",
      "/Users/xinc./Library/Python/3.9/lib/python/site-packages/numpy/core/_methods.py:129: RuntimeWarning: invalid value encountered in scalar divide\n",
      "  ret = ret.dtype.type(ret / rcount)\n",
      "/Users/xinc./Library/Python/3.9/lib/python/site-packages/numpy/core/_methods.py:206: RuntimeWarning: Degrees of freedom <= 0 for slice\n",
      "  ret = _var(a, axis=axis, dtype=dtype, out=out, ddof=ddof,\n",
      "/Users/xinc./Library/Python/3.9/lib/python/site-packages/numpy/core/_methods.py:163: RuntimeWarning: invalid value encountered in divide\n",
      "  arrmean = um.true_divide(arrmean, div, out=arrmean,\n",
      "/Users/xinc./Library/Python/3.9/lib/python/site-packages/numpy/core/_methods.py:198: RuntimeWarning: invalid value encountered in scalar divide\n",
      "  ret = ret.dtype.type(ret / rcount)\n"
     ]
    },
    {
     "name": "stdout",
     "output_type": "stream",
     "text": [
      "2021-10-29 00:00:00 \t ave = nan% \t std.s = nan\n",
      "**************************************************************\n",
      "2021-11-01 00:00:00 \t ave = 6.6361% \t std.s = 0.027664\n",
      "**************************************************************\n",
      "2021-11-02 00:00:00 \t ave = 6.6463% \t std.s = 0.034462\n",
      "**************************************************************\n",
      "2021-11-03 00:00:00 \t ave = 9.4157% \t std.s = 0.030486\n",
      "**************************************************************\n",
      "2021-11-04 00:00:00 \t ave = 10.7345% \t std.s = 0.029433\n",
      "**************************************************************\n",
      "2021-11-05 00:00:00 \t ave = 6.7353% \t std.s = 0.029119\n",
      "**************************************************************\n",
      "2021-11-08 00:00:00 \t ave = 6.0244% \t std.s = 0.030531\n",
      "**************************************************************\n",
      "2021-11-09 00:00:00 \t ave = 7.7761% \t std.s = 0.040200\n",
      "**************************************************************\n",
      "2021-11-10 00:00:00 \t ave = 7.9651% \t std.s = 0.040841\n",
      "**************************************************************\n",
      "2021-11-11 00:00:00 \t ave = 14.2188% \t std.s = 0.023627\n",
      "**************************************************************\n",
      "2021-11-12 00:00:00 \t ave = 13.4007% \t std.s = 0.023964\n",
      "**************************************************************\n",
      "2021-11-15 00:00:00 \t ave = 16.0387% \t std.s = 0.055144\n",
      "**************************************************************\n",
      "2021-11-16 00:00:00 \t ave = 14.2640% \t std.s = 0.023975\n",
      "**************************************************************\n",
      "2021-11-17 00:00:00 \t ave = 4.6281% \t std.s = 0.002992\n",
      "**************************************************************\n",
      "2021-11-18 00:00:00 \t ave = 11.3167% \t std.s = 0.012316\n",
      "**************************************************************\n",
      "2021-11-19 00:00:00 \t ave = 13.0957% \t std.s = 0.011260\n",
      "**************************************************************\n",
      "2021-11-22 00:00:00 \t ave = 12.9909% \t std.s = 0.005235\n",
      "**************************************************************\n",
      "2021-11-23 00:00:00 \t ave = 13.4483% \t std.s = 0.006724\n",
      "**************************************************************\n",
      "2021-11-24 00:00:00 \t ave = 9.1959% \t std.s = 0.033240\n",
      "**************************************************************\n",
      "2021-11-25 00:00:00 \t ave = 7.7004% \t std.s = 0.027872\n",
      "**************************************************************\n",
      "2021-11-26 00:00:00 \t ave = 8.4014% \t std.s = 0.030128\n",
      "**************************************************************\n",
      "2021-11-29 00:00:00 \t ave = 7.3002% \t std.s = 0.029306\n",
      "**************************************************************\n",
      "2021-11-30 00:00:00 \t ave = 6.4746% \t std.s = 0.034649\n",
      "**************************************************************\n"
     ]
    },
    {
     "name": "stderr",
     "output_type": "stream",
     "text": [
      "/Users/xinc./Library/Python/3.9/lib/python/site-packages/numpy/lib/function_base.py:520: RuntimeWarning: Mean of empty slice.\n",
      "  avg = a.mean(axis, **keepdims_kw)\n",
      "/Users/xinc./Library/Python/3.9/lib/python/site-packages/numpy/core/_methods.py:129: RuntimeWarning: invalid value encountered in scalar divide\n",
      "  ret = ret.dtype.type(ret / rcount)\n",
      "/Users/xinc./Library/Python/3.9/lib/python/site-packages/numpy/core/_methods.py:206: RuntimeWarning: Degrees of freedom <= 0 for slice\n",
      "  ret = _var(a, axis=axis, dtype=dtype, out=out, ddof=ddof,\n",
      "/Users/xinc./Library/Python/3.9/lib/python/site-packages/numpy/core/_methods.py:163: RuntimeWarning: invalid value encountered in divide\n",
      "  arrmean = um.true_divide(arrmean, div, out=arrmean,\n",
      "/Users/xinc./Library/Python/3.9/lib/python/site-packages/numpy/core/_methods.py:198: RuntimeWarning: invalid value encountered in scalar divide\n",
      "  ret = ret.dtype.type(ret / rcount)\n"
     ]
    },
    {
     "name": "stdout",
     "output_type": "stream",
     "text": [
      "2021-12-01 00:00:00 \t ave = nan% \t std.s = nan\n",
      "**************************************************************\n"
     ]
    },
    {
     "name": "stderr",
     "output_type": "stream",
     "text": [
      "/Users/xinc./Library/Python/3.9/lib/python/site-packages/numpy/lib/function_base.py:520: RuntimeWarning: Mean of empty slice.\n",
      "  avg = a.mean(axis, **keepdims_kw)\n",
      "/Users/xinc./Library/Python/3.9/lib/python/site-packages/numpy/core/_methods.py:129: RuntimeWarning: invalid value encountered in scalar divide\n",
      "  ret = ret.dtype.type(ret / rcount)\n",
      "/Users/xinc./Library/Python/3.9/lib/python/site-packages/numpy/core/_methods.py:206: RuntimeWarning: Degrees of freedom <= 0 for slice\n",
      "  ret = _var(a, axis=axis, dtype=dtype, out=out, ddof=ddof,\n",
      "/Users/xinc./Library/Python/3.9/lib/python/site-packages/numpy/core/_methods.py:163: RuntimeWarning: invalid value encountered in divide\n",
      "  arrmean = um.true_divide(arrmean, div, out=arrmean,\n",
      "/Users/xinc./Library/Python/3.9/lib/python/site-packages/numpy/core/_methods.py:198: RuntimeWarning: invalid value encountered in scalar divide\n",
      "  ret = ret.dtype.type(ret / rcount)\n"
     ]
    },
    {
     "name": "stdout",
     "output_type": "stream",
     "text": [
      "2021-12-02 00:00:00 \t ave = nan% \t std.s = nan\n",
      "**************************************************************\n"
     ]
    },
    {
     "name": "stderr",
     "output_type": "stream",
     "text": [
      "/Users/xinc./Library/Python/3.9/lib/python/site-packages/numpy/lib/function_base.py:520: RuntimeWarning: Mean of empty slice.\n",
      "  avg = a.mean(axis, **keepdims_kw)\n",
      "/Users/xinc./Library/Python/3.9/lib/python/site-packages/numpy/core/_methods.py:129: RuntimeWarning: invalid value encountered in scalar divide\n",
      "  ret = ret.dtype.type(ret / rcount)\n",
      "/Users/xinc./Library/Python/3.9/lib/python/site-packages/numpy/core/_methods.py:206: RuntimeWarning: Degrees of freedom <= 0 for slice\n",
      "  ret = _var(a, axis=axis, dtype=dtype, out=out, ddof=ddof,\n",
      "/Users/xinc./Library/Python/3.9/lib/python/site-packages/numpy/core/_methods.py:163: RuntimeWarning: invalid value encountered in divide\n",
      "  arrmean = um.true_divide(arrmean, div, out=arrmean,\n",
      "/Users/xinc./Library/Python/3.9/lib/python/site-packages/numpy/core/_methods.py:198: RuntimeWarning: invalid value encountered in scalar divide\n",
      "  ret = ret.dtype.type(ret / rcount)\n"
     ]
    },
    {
     "name": "stdout",
     "output_type": "stream",
     "text": [
      "2021-12-03 00:00:00 \t ave = nan% \t std.s = nan\n",
      "**************************************************************\n",
      "2021-12-06 00:00:00 \t ave = 9.1435% \t std.s = 0.023473\n",
      "**************************************************************\n"
     ]
    },
    {
     "name": "stderr",
     "output_type": "stream",
     "text": [
      "/Users/xinc./Library/Python/3.9/lib/python/site-packages/numpy/lib/function_base.py:520: RuntimeWarning: Mean of empty slice.\n",
      "  avg = a.mean(axis, **keepdims_kw)\n",
      "/Users/xinc./Library/Python/3.9/lib/python/site-packages/numpy/core/_methods.py:129: RuntimeWarning: invalid value encountered in scalar divide\n",
      "  ret = ret.dtype.type(ret / rcount)\n",
      "/Users/xinc./Library/Python/3.9/lib/python/site-packages/numpy/core/_methods.py:206: RuntimeWarning: Degrees of freedom <= 0 for slice\n",
      "  ret = _var(a, axis=axis, dtype=dtype, out=out, ddof=ddof,\n",
      "/Users/xinc./Library/Python/3.9/lib/python/site-packages/numpy/core/_methods.py:163: RuntimeWarning: invalid value encountered in divide\n",
      "  arrmean = um.true_divide(arrmean, div, out=arrmean,\n",
      "/Users/xinc./Library/Python/3.9/lib/python/site-packages/numpy/core/_methods.py:198: RuntimeWarning: invalid value encountered in scalar divide\n",
      "  ret = ret.dtype.type(ret / rcount)\n"
     ]
    },
    {
     "name": "stdout",
     "output_type": "stream",
     "text": [
      "2021-12-07 00:00:00 \t ave = nan% \t std.s = nan\n",
      "**************************************************************\n",
      "2021-12-08 00:00:00 \t ave = 8.6775% \t std.s = 0.046894\n",
      "**************************************************************\n",
      "2021-12-09 00:00:00 \t ave = 10.7860% \t std.s = 0.014074\n",
      "**************************************************************\n",
      "2021-12-10 00:00:00 \t ave = 12.6484% \t std.s = 0.026477\n",
      "**************************************************************\n"
     ]
    },
    {
     "name": "stderr",
     "output_type": "stream",
     "text": [
      "/Users/xinc./Library/Python/3.9/lib/python/site-packages/numpy/lib/function_base.py:520: RuntimeWarning: Mean of empty slice.\n",
      "  avg = a.mean(axis, **keepdims_kw)\n",
      "/Users/xinc./Library/Python/3.9/lib/python/site-packages/numpy/core/_methods.py:129: RuntimeWarning: invalid value encountered in scalar divide\n",
      "  ret = ret.dtype.type(ret / rcount)\n",
      "/Users/xinc./Library/Python/3.9/lib/python/site-packages/numpy/core/_methods.py:206: RuntimeWarning: Degrees of freedom <= 0 for slice\n",
      "  ret = _var(a, axis=axis, dtype=dtype, out=out, ddof=ddof,\n",
      "/Users/xinc./Library/Python/3.9/lib/python/site-packages/numpy/core/_methods.py:163: RuntimeWarning: invalid value encountered in divide\n",
      "  arrmean = um.true_divide(arrmean, div, out=arrmean,\n",
      "/Users/xinc./Library/Python/3.9/lib/python/site-packages/numpy/core/_methods.py:198: RuntimeWarning: invalid value encountered in scalar divide\n",
      "  ret = ret.dtype.type(ret / rcount)\n"
     ]
    },
    {
     "name": "stdout",
     "output_type": "stream",
     "text": [
      "2021-12-13 00:00:00 \t ave = nan% \t std.s = nan\n",
      "**************************************************************\n"
     ]
    },
    {
     "name": "stderr",
     "output_type": "stream",
     "text": [
      "/Users/xinc./Library/Python/3.9/lib/python/site-packages/numpy/lib/function_base.py:520: RuntimeWarning: Mean of empty slice.\n",
      "  avg = a.mean(axis, **keepdims_kw)\n",
      "/Users/xinc./Library/Python/3.9/lib/python/site-packages/numpy/core/_methods.py:129: RuntimeWarning: invalid value encountered in scalar divide\n",
      "  ret = ret.dtype.type(ret / rcount)\n",
      "/Users/xinc./Library/Python/3.9/lib/python/site-packages/numpy/core/_methods.py:206: RuntimeWarning: Degrees of freedom <= 0 for slice\n",
      "  ret = _var(a, axis=axis, dtype=dtype, out=out, ddof=ddof,\n",
      "/Users/xinc./Library/Python/3.9/lib/python/site-packages/numpy/core/_methods.py:163: RuntimeWarning: invalid value encountered in divide\n",
      "  arrmean = um.true_divide(arrmean, div, out=arrmean,\n",
      "/Users/xinc./Library/Python/3.9/lib/python/site-packages/numpy/core/_methods.py:198: RuntimeWarning: invalid value encountered in scalar divide\n",
      "  ret = ret.dtype.type(ret / rcount)\n"
     ]
    },
    {
     "name": "stdout",
     "output_type": "stream",
     "text": [
      "2021-12-14 00:00:00 \t ave = nan% \t std.s = nan\n",
      "**************************************************************\n"
     ]
    },
    {
     "name": "stderr",
     "output_type": "stream",
     "text": [
      "/Users/xinc./Library/Python/3.9/lib/python/site-packages/numpy/lib/function_base.py:520: RuntimeWarning: Mean of empty slice.\n",
      "  avg = a.mean(axis, **keepdims_kw)\n",
      "/Users/xinc./Library/Python/3.9/lib/python/site-packages/numpy/core/_methods.py:129: RuntimeWarning: invalid value encountered in scalar divide\n",
      "  ret = ret.dtype.type(ret / rcount)\n",
      "/Users/xinc./Library/Python/3.9/lib/python/site-packages/numpy/core/_methods.py:206: RuntimeWarning: Degrees of freedom <= 0 for slice\n",
      "  ret = _var(a, axis=axis, dtype=dtype, out=out, ddof=ddof,\n",
      "/Users/xinc./Library/Python/3.9/lib/python/site-packages/numpy/core/_methods.py:163: RuntimeWarning: invalid value encountered in divide\n",
      "  arrmean = um.true_divide(arrmean, div, out=arrmean,\n",
      "/Users/xinc./Library/Python/3.9/lib/python/site-packages/numpy/core/_methods.py:198: RuntimeWarning: invalid value encountered in scalar divide\n",
      "  ret = ret.dtype.type(ret / rcount)\n"
     ]
    },
    {
     "name": "stdout",
     "output_type": "stream",
     "text": [
      "2021-12-15 00:00:00 \t ave = nan% \t std.s = nan\n",
      "**************************************************************\n"
     ]
    },
    {
     "name": "stderr",
     "output_type": "stream",
     "text": [
      "/Users/xinc./Library/Python/3.9/lib/python/site-packages/numpy/lib/function_base.py:520: RuntimeWarning: Mean of empty slice.\n",
      "  avg = a.mean(axis, **keepdims_kw)\n",
      "/Users/xinc./Library/Python/3.9/lib/python/site-packages/numpy/core/_methods.py:129: RuntimeWarning: invalid value encountered in scalar divide\n",
      "  ret = ret.dtype.type(ret / rcount)\n",
      "/Users/xinc./Library/Python/3.9/lib/python/site-packages/numpy/core/_methods.py:206: RuntimeWarning: Degrees of freedom <= 0 for slice\n",
      "  ret = _var(a, axis=axis, dtype=dtype, out=out, ddof=ddof,\n",
      "/Users/xinc./Library/Python/3.9/lib/python/site-packages/numpy/core/_methods.py:163: RuntimeWarning: invalid value encountered in divide\n",
      "  arrmean = um.true_divide(arrmean, div, out=arrmean,\n",
      "/Users/xinc./Library/Python/3.9/lib/python/site-packages/numpy/core/_methods.py:198: RuntimeWarning: invalid value encountered in scalar divide\n",
      "  ret = ret.dtype.type(ret / rcount)\n"
     ]
    },
    {
     "name": "stdout",
     "output_type": "stream",
     "text": [
      "2021-12-16 00:00:00 \t ave = nan% \t std.s = nan\n",
      "**************************************************************\n"
     ]
    },
    {
     "name": "stderr",
     "output_type": "stream",
     "text": [
      "/Users/xinc./Library/Python/3.9/lib/python/site-packages/numpy/lib/function_base.py:520: RuntimeWarning: Mean of empty slice.\n",
      "  avg = a.mean(axis, **keepdims_kw)\n",
      "/Users/xinc./Library/Python/3.9/lib/python/site-packages/numpy/core/_methods.py:129: RuntimeWarning: invalid value encountered in scalar divide\n",
      "  ret = ret.dtype.type(ret / rcount)\n",
      "/Users/xinc./Library/Python/3.9/lib/python/site-packages/numpy/core/_methods.py:206: RuntimeWarning: Degrees of freedom <= 0 for slice\n",
      "  ret = _var(a, axis=axis, dtype=dtype, out=out, ddof=ddof,\n",
      "/Users/xinc./Library/Python/3.9/lib/python/site-packages/numpy/core/_methods.py:163: RuntimeWarning: invalid value encountered in divide\n",
      "  arrmean = um.true_divide(arrmean, div, out=arrmean,\n",
      "/Users/xinc./Library/Python/3.9/lib/python/site-packages/numpy/core/_methods.py:198: RuntimeWarning: invalid value encountered in scalar divide\n",
      "  ret = ret.dtype.type(ret / rcount)\n"
     ]
    },
    {
     "name": "stdout",
     "output_type": "stream",
     "text": [
      "2021-12-17 00:00:00 \t ave = nan% \t std.s = nan\n",
      "**************************************************************\n",
      "2021-12-20 00:00:00 \t ave = 13.3255% \t std.s = 0.013546\n",
      "**************************************************************\n",
      "2021-12-21 00:00:00 \t ave = 11.3234% \t std.s = 0.009031\n",
      "**************************************************************\n",
      "2021-12-22 00:00:00 \t ave = 12.2774% \t std.s = 0.014305\n",
      "**************************************************************\n",
      "2021-12-23 00:00:00 \t ave = 11.7663% \t std.s = 0.007292\n",
      "**************************************************************\n",
      "2021-12-24 00:00:00 \t ave = 12.2899% \t std.s = 0.003008\n",
      "**************************************************************\n",
      "2021-12-27 00:00:00 \t ave = 12.9254% \t std.s = 0.015973\n",
      "**************************************************************\n"
     ]
    },
    {
     "name": "stderr",
     "output_type": "stream",
     "text": [
      "/Users/xinc./Library/Python/3.9/lib/python/site-packages/numpy/lib/function_base.py:520: RuntimeWarning: Mean of empty slice.\n",
      "  avg = a.mean(axis, **keepdims_kw)\n",
      "/Users/xinc./Library/Python/3.9/lib/python/site-packages/numpy/core/_methods.py:129: RuntimeWarning: invalid value encountered in scalar divide\n",
      "  ret = ret.dtype.type(ret / rcount)\n",
      "/Users/xinc./Library/Python/3.9/lib/python/site-packages/numpy/core/_methods.py:206: RuntimeWarning: Degrees of freedom <= 0 for slice\n",
      "  ret = _var(a, axis=axis, dtype=dtype, out=out, ddof=ddof,\n",
      "/Users/xinc./Library/Python/3.9/lib/python/site-packages/numpy/core/_methods.py:163: RuntimeWarning: invalid value encountered in divide\n",
      "  arrmean = um.true_divide(arrmean, div, out=arrmean,\n",
      "/Users/xinc./Library/Python/3.9/lib/python/site-packages/numpy/core/_methods.py:198: RuntimeWarning: invalid value encountered in scalar divide\n",
      "  ret = ret.dtype.type(ret / rcount)\n"
     ]
    },
    {
     "name": "stdout",
     "output_type": "stream",
     "text": [
      "2021-12-28 00:00:00 \t ave = nan% \t std.s = nan\n",
      "**************************************************************\n"
     ]
    },
    {
     "name": "stderr",
     "output_type": "stream",
     "text": [
      "/Users/xinc./Library/Python/3.9/lib/python/site-packages/numpy/lib/function_base.py:520: RuntimeWarning: Mean of empty slice.\n",
      "  avg = a.mean(axis, **keepdims_kw)\n",
      "/Users/xinc./Library/Python/3.9/lib/python/site-packages/numpy/core/_methods.py:129: RuntimeWarning: invalid value encountered in scalar divide\n",
      "  ret = ret.dtype.type(ret / rcount)\n",
      "/Users/xinc./Library/Python/3.9/lib/python/site-packages/numpy/core/_methods.py:206: RuntimeWarning: Degrees of freedom <= 0 for slice\n",
      "  ret = _var(a, axis=axis, dtype=dtype, out=out, ddof=ddof,\n",
      "/Users/xinc./Library/Python/3.9/lib/python/site-packages/numpy/core/_methods.py:163: RuntimeWarning: invalid value encountered in divide\n",
      "  arrmean = um.true_divide(arrmean, div, out=arrmean,\n",
      "/Users/xinc./Library/Python/3.9/lib/python/site-packages/numpy/core/_methods.py:198: RuntimeWarning: invalid value encountered in scalar divide\n",
      "  ret = ret.dtype.type(ret / rcount)\n"
     ]
    },
    {
     "name": "stdout",
     "output_type": "stream",
     "text": [
      "2021-12-29 00:00:00 \t ave = nan% \t std.s = nan\n",
      "**************************************************************\n",
      "2021-12-30 00:00:00 \t ave = 7.3161% \t std.s = 0.025319\n",
      "**************************************************************\n"
     ]
    }
   ],
   "source": [
    "main()"
   ]
  }
 ],
 "metadata": {
  "kernelspec": {
   "display_name": "Python 3",
   "language": "python",
   "name": "python3"
  },
  "language_info": {
   "codemirror_mode": {
    "name": "ipython",
    "version": 3
   },
   "file_extension": ".py",
   "mimetype": "text/x-python",
   "name": "python",
   "nbconvert_exporter": "python",
   "pygments_lexer": "ipython3",
   "version": "3.9.6"
  }
 },
 "nbformat": 4,
 "nbformat_minor": 2
}
