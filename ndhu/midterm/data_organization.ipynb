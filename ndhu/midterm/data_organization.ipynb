{
 "cells": [
  {
   "cell_type": "code",
   "execution_count": 57,
   "metadata": {},
   "outputs": [],
   "source": [
    "import os\n",
    "import pandas as pd"
   ]
  },
  {
   "cell_type": "markdown",
   "metadata": {},
   "source": [
    "# 改變Date、File"
   ]
  },
  {
   "cell_type": "code",
   "execution_count": 16,
   "metadata": {},
   "outputs": [],
   "source": [
    "import pandas as pd\n",
    "from datetime import datetime"
   ]
  },
  {
   "cell_type": "code",
   "execution_count": 17,
   "metadata": {},
   "outputs": [],
   "source": [
    "data = pd.read_excel('加權指數.xlsx')\n",
    "\n",
    "data['Date'] = pd.to_datetime(data['Date'], format='%Y/%m/%d')\n",
    "\n",
    "for i in range(len(data.index)):\n",
    "    name = data['Date'].iloc[i]\n",
    "    data.loc[i, 'File'] = f\"o{name.strftime('%Y%m%d')}.csv\"\n",
    "\n",
    "data['Date'] = data['Date'].dt.date\n",
    "data.to_excel('加權指數.xlsx', index = False)"
   ]
  },
  {
   "cell_type": "code",
   "execution_count": null,
   "metadata": {},
   "outputs": [],
   "source": [
    "data"
   ]
  },
  {
   "cell_type": "markdown",
   "metadata": {},
   "source": [
    "# 算到期日"
   ]
  },
  {
   "cell_type": "code",
   "execution_count": 28,
   "metadata": {},
   "outputs": [],
   "source": [
    "import pandas as pd\n",
    "from pandas.tseries.offsets import MonthEnd, Week\n",
    "\n",
    "data = pd.read_excel('加權指數.xlsx')\n",
    "data['Date'] = pd.to_datetime(data['Date'], errors='coerce')\n",
    "\n",
    "def third_wednesday(date):\n",
    "    last_day = (date + MonthEnd(0)).replace(day=1)\n",
    "    first_wednesday = last_day + Week(weekday=2)\n",
    "    if first_wednesday.day <= 7:\n",
    "        return first_wednesday + Week(2)\n",
    "    else:\n",
    "        return first_wednesday + Week(1)\n",
    "\n",
    "def update_contract_and_maturity(row):\n",
    "    if row['Maturity'] < 0:\n",
    "        next_month = row['Date'] + pd.DateOffset(months=1)\n",
    "        maturity_date = third_wednesday(next_month)\n",
    "        row['Contract'] = maturity_date.strftime('%Y-%m')\n",
    "        row['Maturity'] = (maturity_date - row['Date']).days\n",
    "    return row\n",
    "\n",
    "data['MaturityDate'] = data['Date'].apply(third_wednesday)\n",
    "\n",
    "data['Maturity'] = (data['MaturityDate'] - data['Date']).dt.days\n",
    "\n",
    "data['Contract'] = data['MaturityDate'].dt.strftime('%Y-%m')\n",
    "\n",
    "data = data.drop(columns=['MaturityDate'])\n",
    "\n",
    "data = data.apply(update_contract_and_maturity, axis=1)\n",
    "\n",
    "data['Date'] = data['Date'].dt.date\n",
    "\n",
    "data.to_excel('加權指數.xlsx', index = False)"
   ]
  },
  {
   "cell_type": "markdown",
   "metadata": {},
   "source": [
    "# 解壓縮"
   ]
  },
  {
   "cell_type": "code",
   "execution_count": null,
   "metadata": {},
   "outputs": [],
   "source": [
    "folder_path = '/Users/xinc./Documents/GitHub/desktop-tutorial/ndhu/midterm/逐筆資料/Option_2021'\n",
    "\n",
    "for filename in os.listdir(folder_path):\n",
    "    file_path = os.path.join(folder_path, filename)\n",
    "    try:\n",
    "        data = pd.read_csv(file_path, encoding = 'big5')\n",
    "        data.to_csv(file_path, index = False)\n",
    "        print(filename)\n",
    "\n",
    "    except UnicodeDecodeError as e:\n",
    "        print(f\"編碼錯誤（Big5 無法解碼）：{filename}，錯誤訊息：{e}\")\n",
    "\n",
    "    except Exception as e:\n",
    "        print(f\"處理檔案 {filename} 時發生錯誤：{e}\")"
   ]
  },
  {
   "cell_type": "markdown",
   "metadata": {},
   "source": [
    "# 整理逐日資料"
   ]
  },
  {
   "cell_type": "code",
   "execution_count": 85,
   "metadata": {},
   "outputs": [],
   "source": [
    "folder_path = '/Users/xinc./Documents/GitHub/desktop-tutorial/ndhu/midterm/逐筆資料/Option_2021'\n",
    "\n",
    "for filename in os.listdir(folder_path):\n",
    "    file_path = os.path.join(folder_path, filename)\n",
    "\n",
    "    data = pd.read_csv(file_path, dtype = str, low_memory = False)\n",
    "    data.columns = data.columns.str.strip()\n",
    "    filterdata = data[data['商品代號'].str.strip() == 'TXO']\n",
    "    filterdata = filterdata.reset_index(drop = True)\n",
    "    filterdata = filterdata.dropna()\n",
    "    filterdata.to_csv(file_path)"
   ]
  }
 ],
 "metadata": {
  "kernelspec": {
   "display_name": "Python 3",
   "language": "python",
   "name": "python3"
  },
  "language_info": {
   "codemirror_mode": {
    "name": "ipython",
    "version": 3
   },
   "file_extension": ".py",
   "mimetype": "text/x-python",
   "name": "python",
   "nbconvert_exporter": "python",
   "pygments_lexer": "ipython3",
   "version": "3.9.6"
  }
 },
 "nbformat": 4,
 "nbformat_minor": 2
}
