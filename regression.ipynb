{
 "cells": [
  {
   "cell_type": "code",
   "execution_count": 48,
   "metadata": {},
   "outputs": [],
   "source": [
    "import pandas as pd\n",
    "import numpy as np\n",
    "import statsmodels.api as sm"
   ]
  },
  {
   "cell_type": "code",
   "execution_count": 85,
   "metadata": {},
   "outputs": [
    {
     "name": "stdout",
     "output_type": "stream",
     "text": [
      "                            OLS Regression Results                            \n",
      "==============================================================================\n",
      "Dep. Variable:               Quantity   R-squared:                       0.141\n",
      "Model:                            OLS   Adj. R-squared:                 -0.145\n",
      "Method:                 Least Squares   F-statistic:                    0.4933\n",
      "Date:                Wed, 22 Jan 2025   Prob (F-statistic):              0.696\n",
      "Time:                        13:35:44   Log-Likelihood:                -77.271\n",
      "No. Observations:                  13   AIC:                             162.5\n",
      "Df Residuals:                       9   BIC:                             164.8\n",
      "Df Model:                           3                                         \n",
      "Covariance Type:            nonrobust                                         \n",
      "==================================================================================\n",
      "                     coef    std err          t      P>|t|      [0.025      0.975]\n",
      "----------------------------------------------------------------------------------\n",
      "const            263.6474    106.636      2.472      0.035      22.421     504.874\n",
      "Price              0.1480      0.148      1.000      0.343      -0.187       0.483\n",
      "Price_Two_days    -0.0990      0.091     -1.090      0.304      -0.305       0.107\n",
      "West_side        -48.9083     71.670     -0.682      0.512    -211.038     113.221\n",
      "==============================================================================\n",
      "Omnibus:                        0.560   Durbin-Watson:                   2.337\n",
      "Prob(Omnibus):                  0.756   Jarque-Bera (JB):                0.343\n",
      "Skew:                           0.354   Prob(JB):                        0.842\n",
      "Kurtosis:                       2.637   Cond. No.                     3.61e+03\n",
      "==============================================================================\n",
      "\n",
      "Notes:\n",
      "[1] Standard Errors assume that the covariance matrix of the errors is correctly specified.\n",
      "[2] The condition number is large, 3.61e+03. This might indicate that there are\n",
      "strong multicollinearity or other numerical problems.\n"
     ]
    },
    {
     "name": "stderr",
     "output_type": "stream",
     "text": [
      "/Users/xinc./Library/Python/3.9/lib/python/site-packages/scipy/stats/_axis_nan_policy.py:531: UserWarning: kurtosistest only valid for n>=20 ... continuing anyway, n=13\n",
      "  res = hypotest_fun_out(*samples, **kwds)\n"
     ]
    }
   ],
   "source": [
    "import pandas as pd\n",
    "import statsmodels.api as sm\n",
    "\n",
    "# 讀取 Excel 檔案\n",
    "file_path = \"/Users/xinc./Documents/GitHub/desktop-tutorial/Book1.xlsx\"\n",
    "df = pd.read_excel(file_path)\n",
    "\n",
    "# 檢查缺失值並移除\n",
    "df.dropna(subset=['Price', 'Two-days', 'West_side', 'Quantity'], inplace=True)\n",
    "\n",
    "# 確保 Year 是數值型\n",
    "df['Year'] = df['Year'].astype(int)\n",
    "\n",
    "# 確保變數類型正確\n",
    "df['Price'] = df['Price'].astype(float)\n",
    "df['Two-days'] = df['Two-days'].astype(int)\n",
    "df['West_side'] = df['West_side'].astype(int)\n",
    "df['Quantity'] = df['Quantity'].astype(float)\n",
    "df['log_Quantity'] = np.log(df['Quantity'])\n",
    "df['log_Price'] = np.log(df['Price'])\n",
    "\n",
    "# 建立交互變數 Price * Two-days\n",
    "df['Price_Two_days'] = df['Price'] * df['Two-days']\n",
    "\n",
    "# 定義自變數，考慮價格與其他控制變數\n",
    "X = df[['Price', 'Price_Two_days', 'West_side']]\n",
    "y = df['Quantity']\n",
    "\n",
    "# 添加截距項\n",
    "X = sm.add_constant(X)\n",
    "\n",
    "# 執行 OLS 迴歸\n",
    "model = sm.OLS(y, X).fit()\n",
    "\n",
    "# 顯示回歸結果摘要\n",
    "print(model.summary())"
   ]
  },
  {
   "cell_type": "code",
   "execution_count": 86,
   "metadata": {},
   "outputs": [
    {
     "name": "stdout",
     "output_type": "stream",
     "text": [
      "價格 300 ，預測的需求量 229.43\n",
      "價格 500 ，預測的需求量 239.23\n",
      "價格 700 ，預測的需求量 249.02\n",
      "價格 900 ，預測的需求量 258.82\n",
      "價格 1100 ，預測的需求量 268.61\n",
      "價格 1300 ，預測的需求量 278.40\n",
      "價格 1500 ，預測的需求量 288.20\n",
      "價格 1700 ，預測的需求量 297.99\n",
      "價格 1900 ，預測的需求量 307.79\n"
     ]
    }
   ],
   "source": [
    "price_range = np.arange(300, 2001, 200)\n",
    "\n",
    "test_data = pd.DataFrame({\n",
    "    'Price': price_range,\n",
    "    'Price_Two_days': price_range * 1,\n",
    "    'West_side': 1\n",
    "    # 'Commercial': [0] * len(price_range),\n",
    "    # 'Year': 2024\n",
    "})\n",
    "\n",
    "test_data.insert(0, 'const', 1.0)\n",
    "\n",
    "predictions = model.predict(test_data)\n",
    "\n",
    "for p, q in zip(price_range, predictions):\n",
    "    print(f\"價格 {p} ，預測的需求量 {q:.2f}\")"
   ]
  },
  {
   "cell_type": "code",
   "execution_count": 87,
   "metadata": {},
   "outputs": [
    {
     "data": {
      "image/png": "[encoded data removed]",
      "text/plain": [
       "<Figure size 640x480 with 1 Axes>"
      ]
     },
     "metadata": {},
     "output_type": "display_data"
    }
   ],
   "source": [
    "import matplotlib.pyplot as plt\n",
    "\n",
    "plt.plot(price_range, predictions, marker='o', linestyle='-')\n",
    "plt.xlabel('Price')\n",
    "plt.ylabel('Q')\n",
    "plt.grid()\n",
    "plt.show()"
   ]
  }
 ],
 "metadata": {
  "kernelspec": {
   "display_name": "Python 3",
   "language": "python",
   "name": "python3"
  },
  "language_info": {
   "codemirror_mode": {
    "name": "ipython",
    "version": 3
   },
   "file_extension": ".py",
   "mimetype": "text/x-python",
   "name": "python",
   "nbconvert_exporter": "python",
   "pygments_lexer": "ipython3",
   "version": "3.9.6"
  }
 },
 "nbformat": 4,
 "nbformat_minor": 2
}
