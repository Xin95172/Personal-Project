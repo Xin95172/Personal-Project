{
 "cells": [
  {
   "cell_type": "code",
   "execution_count": 1,
   "metadata": {},
   "outputs": [
    {
     "ename": "FileNotFoundError",
     "evalue": "[Errno 2] No such file or directory: 'Cookie.json'",
     "output_type": "error",
     "traceback": [
      "\u001b[0;31m---------------------------------------------------------------------------\u001b[0m",
      "\u001b[0;31mFileNotFoundError\u001b[0m                         Traceback (most recent call last)",
      "Cell \u001b[0;32mIn[1], line 12\u001b[0m\n\u001b[1;32m      9\u001b[0m driver \u001b[38;5;241m=\u001b[39m webdriver\u001b[38;5;241m.\u001b[39mChrome()\n\u001b[1;32m     10\u001b[0m driver\u001b[38;5;241m.\u001b[39mget(url)\n\u001b[0;32m---> 12\u001b[0m \u001b[38;5;28;01mwith\u001b[39;00m \u001b[38;5;28;43mopen\u001b[39;49m\u001b[43m(\u001b[49m\u001b[38;5;124;43m'\u001b[39;49m\u001b[38;5;124;43mCookie.json\u001b[39;49m\u001b[38;5;124;43m'\u001b[39;49m\u001b[43m)\u001b[49m \u001b[38;5;28;01mas\u001b[39;00m f:\n\u001b[1;32m     13\u001b[0m     cookies \u001b[38;5;241m=\u001b[39m json\u001b[38;5;241m.\u001b[39mload(f)\n\u001b[1;32m     15\u001b[0m \u001b[38;5;28;01mfor\u001b[39;00m cookie \u001b[38;5;129;01min\u001b[39;00m cookies:\n",
      "File \u001b[0;32m~/Library/Python/3.9/lib/python/site-packages/IPython/core/interactiveshell.py:310\u001b[0m, in \u001b[0;36m_modified_open\u001b[0;34m(file, *args, **kwargs)\u001b[0m\n\u001b[1;32m    303\u001b[0m \u001b[38;5;28;01mif\u001b[39;00m file \u001b[38;5;129;01min\u001b[39;00m {\u001b[38;5;241m0\u001b[39m, \u001b[38;5;241m1\u001b[39m, \u001b[38;5;241m2\u001b[39m}:\n\u001b[1;32m    304\u001b[0m     \u001b[38;5;28;01mraise\u001b[39;00m \u001b[38;5;167;01mValueError\u001b[39;00m(\n\u001b[1;32m    305\u001b[0m         \u001b[38;5;124mf\u001b[39m\u001b[38;5;124m\"\u001b[39m\u001b[38;5;124mIPython won\u001b[39m\u001b[38;5;124m'\u001b[39m\u001b[38;5;124mt let you open fd=\u001b[39m\u001b[38;5;132;01m{\u001b[39;00mfile\u001b[38;5;132;01m}\u001b[39;00m\u001b[38;5;124m by default \u001b[39m\u001b[38;5;124m\"\u001b[39m\n\u001b[1;32m    306\u001b[0m         \u001b[38;5;124m\"\u001b[39m\u001b[38;5;124mas it is likely to crash IPython. If you know what you are doing, \u001b[39m\u001b[38;5;124m\"\u001b[39m\n\u001b[1;32m    307\u001b[0m         \u001b[38;5;124m\"\u001b[39m\u001b[38;5;124myou can use builtins\u001b[39m\u001b[38;5;124m'\u001b[39m\u001b[38;5;124m open.\u001b[39m\u001b[38;5;124m\"\u001b[39m\n\u001b[1;32m    308\u001b[0m     )\n\u001b[0;32m--> 310\u001b[0m \u001b[38;5;28;01mreturn\u001b[39;00m \u001b[43mio_open\u001b[49m\u001b[43m(\u001b[49m\u001b[43mfile\u001b[49m\u001b[43m,\u001b[49m\u001b[43m \u001b[49m\u001b[38;5;241;43m*\u001b[39;49m\u001b[43margs\u001b[49m\u001b[43m,\u001b[49m\u001b[43m \u001b[49m\u001b[38;5;241;43m*\u001b[39;49m\u001b[38;5;241;43m*\u001b[39;49m\u001b[43mkwargs\u001b[49m\u001b[43m)\u001b[49m\n",
      "\u001b[0;31mFileNotFoundError\u001b[0m: [Errno 2] No such file or directory: 'Cookie.json'"
     ]
    }
   ],
   "source": [
    "import requests\n",
    "import json\n",
    "from selenium import webdriver\n",
    "from selenium.webdriver.common.by import By\n",
    "from selenium.webdriver.common.action_chains import ActionChains\n",
    "from time import *\n",
    "\n",
    "url = 'https://www.instagram.com/liu_din_ken/'\n",
    "driver = webdriver.Chrome()\n",
    "driver.get(url)\n",
    "\n",
    "with open('Cookie.json') as f:\n",
    "    cookies = json.load(f)\n",
    "\n",
    "for cookie in cookies:\n",
    "    driver.add_cookie(cookie)\n",
    "\n",
    "sleep(1)\n",
    "driver.refresh()\n",
    "sleep(1)\n",
    "action = ActionChains(driver)\n",
    "\n",
    "eles = driver.find_elements(By.CLASS_NAME, '_ac7v.xras4av.xgc1b0m.xat24cr.xzboxd6')\n",
    "for n in range(1):\n",
    "    for ele in eles:\n",
    "        sleep(0.2)\n",
    "        like = None\n",
    "        dislike = None\n",
    "        switch = None\n",
    "\n",
    "        click_eles = ele.find_elements(By.CSS_SELECTOR, '.x1lliihq.x1n2onr6.xh8yej3.x4gyw5p.xfllauq.xo2y696.x11i5rnm.x2pgyrj')\n",
    "        for click_ele in click_eles:\n",
    "            action.move_to_element(click_ele).click().perform()\n",
    "            sleep(0.5)\n",
    "\n",
    "    # 全部按讚把swith改成0，全部dislike改成1，like=0、dislike=1是交替\n",
    "            try:\n",
    "                like = driver.find_element(By.CSS_SELECTOR, '.x1lliihq.x1n2onr6.xyb1xck')\n",
    "                switch = 0\n",
    "            except:\n",
    "                like = None\n",
    "            try:\n",
    "                dislike = driver.find_element(By.CSS_SELECTOR, '.x1lliihq.x1n2onr6.xxk16z8')\n",
    "                switch = 1\n",
    "            except:\n",
    "                dislike = None\n",
    "\n",
    "            if switch == 0:\n",
    "                try:\n",
    "                    action.move_to_element(like).click().perform()\n",
    "                    sleep(0.5)\n",
    "                except:\n",
    "                    pass\n",
    "            elif switch == 1:\n",
    "                try:\n",
    "                    action.move_to_element(dislike).click().perform()\n",
    "                    sleep(0.5)\n",
    "                except:\n",
    "                    pass\n",
    "\n",
    "            close = driver.find_element(By.CSS_SELECTOR, '.x1lliihq.x1n2onr6.x9bdzbf')\n",
    "            action.move_to_element(close).click().perform()"
   ]
  }
 ],
 "metadata": {
  "kernelspec": {
   "display_name": "Python 3",
   "language": "python",
   "name": "python3"
  },
  "language_info": {
   "codemirror_mode": {
    "name": "ipython",
    "version": 3
   },
   "file_extension": ".py",
   "mimetype": "text/x-python",
   "name": "python",
   "nbconvert_exporter": "python",
   "pygments_lexer": "ipython3",
   "version": "3.9.6"
  }
 },
 "nbformat": 4,
 "nbformat_minor": 2
}
